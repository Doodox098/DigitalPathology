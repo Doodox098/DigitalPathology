{
  "cells": [
    {
      "cell_type": "markdown",
      "metadata": {
        "id": "atqZGIIyNSBb"
      },
      "source": [
        "#**Практическое задание №1**"
      ]
    },
    {
      "cell_type": "markdown",
      "metadata": {
        "id": "ga5g3lUhNNBy"
      },
      "source": [
        "Установка необходимых пакетов:"
      ]
    },
    {
      "cell_type": "code",
      "execution_count": 1,
      "metadata": {
        "id": "TGBk36LpukIu",
        "colab": {
          "base_uri": "https://localhost:8080/",
          "height": 0
        },
        "outputId": "14aead73-773c-4fbc-da13-8def7fc1eb7c"
      },
      "outputs": [
        {
          "output_type": "stream",
          "name": "stdout",
          "text": [
            "Requirement already satisfied: gdown in /usr/local/lib/python3.10/dist-packages (4.7.1)\n",
            "Requirement already satisfied: filelock in /usr/local/lib/python3.10/dist-packages (from gdown) (3.13.1)\n",
            "Requirement already satisfied: requests[socks] in /usr/local/lib/python3.10/dist-packages (from gdown) (2.31.0)\n",
            "Requirement already satisfied: six in /usr/local/lib/python3.10/dist-packages (from gdown) (1.16.0)\n",
            "Requirement already satisfied: tqdm in /usr/local/lib/python3.10/dist-packages (from gdown) (4.66.1)\n",
            "Requirement already satisfied: beautifulsoup4 in /usr/local/lib/python3.10/dist-packages (from gdown) (4.11.2)\n",
            "Requirement already satisfied: soupsieve>1.2 in /usr/local/lib/python3.10/dist-packages (from beautifulsoup4->gdown) (2.5)\n",
            "Requirement already satisfied: charset-normalizer<4,>=2 in /usr/local/lib/python3.10/dist-packages (from requests[socks]->gdown) (3.3.2)\n",
            "Requirement already satisfied: idna<4,>=2.5 in /usr/local/lib/python3.10/dist-packages (from requests[socks]->gdown) (3.4)\n",
            "Requirement already satisfied: urllib3<3,>=1.21.1 in /usr/local/lib/python3.10/dist-packages (from requests[socks]->gdown) (2.0.7)\n",
            "Requirement already satisfied: certifi>=2017.4.17 in /usr/local/lib/python3.10/dist-packages (from requests[socks]->gdown) (2023.7.22)\n",
            "Requirement already satisfied: PySocks!=1.5.7,>=1.5.6 in /usr/local/lib/python3.10/dist-packages (from requests[socks]->gdown) (1.7.1)\n"
          ]
        }
      ],
      "source": [
        "!pip install -q tqdm\n",
        "!pip install --upgrade --no-cache-dir gdown"
      ]
    },
    {
      "cell_type": "markdown",
      "metadata": {
        "id": "2vQDLyHEO1Ux"
      },
      "source": [
        "Монтирование Вашего Google Drive к текущему окружению:"
      ]
    },
    {
      "cell_type": "code",
      "execution_count": 2,
      "metadata": {
        "id": "5G5KkA1Nu5M9",
        "colab": {
          "base_uri": "https://localhost:8080/",
          "height": 0
        },
        "outputId": "c85cb9d7-f00a-458c-a12d-d5052cc5e43a"
      },
      "outputs": [
        {
          "output_type": "stream",
          "name": "stdout",
          "text": [
            "Mounted at /content/drive\n"
          ]
        }
      ],
      "source": [
        "from google.colab import drive\n",
        "drive.mount('/content/drive', force_remount=True)"
      ]
    },
    {
      "cell_type": "markdown",
      "metadata": {
        "id": "0Num5lHV6912"
      },
      "source": [
        "Константы, которые пригодятся в коде далее, и ссылки (gdrive идентификаторы) на предоставляемые наборы данных:"
      ]
    },
    {
      "cell_type": "code",
      "execution_count": 3,
      "metadata": {
        "id": "ab2yCwDm7Fqb"
      },
      "outputs": [],
      "source": [
        "EVALUATE_ONLY = False\n",
        "TEST_ON_LARGE_DATASET = True\n",
        "TISSUE_CLASSES = ('ADI', 'BACK', 'DEB', 'LYM', 'MUC', 'MUS', 'NORM', 'STR', 'TUM')\n",
        "DATASETS_LINKS = {\n",
        "        'train': '1XtQzVQ5XbrfxpLHJuL0XBGJ5U7CS-cLi',\n",
        "        'local_train': '1e4GeqU0uIlbJ9_ENJ6mM13kUGwuasuvz',\n",
        "        'local_test' : '1jU1N5Ki9ikwdJMAaqy7xhVMz2ZNKzWj_',\n",
        "        'train_small': '1qd45xXfDwdZjktLFwQb-et-mAaFeCzOR',\n",
        "        'train_tiny': '1I-2ZOuXLd4QwhZQQltp817Kn3J0Xgbui',\n",
        "        'test': '1RfPou3pFKpuHDJZ-D9XDFzgvwpUBFlDr',\n",
        "        'test_small': '1wbRsog0n7uGlHIPGLhyN-PMeT2kdQ2lI',\n",
        "        'test_tiny': '1viiB0s041CNsAK4itvX8PnYthJ-MDnQc'\n",
        "}"
      ]
    },
    {
      "cell_type": "markdown",
      "metadata": {
        "id": "fgY-ux5qOI0k"
      },
      "source": [
        "Импорт необходимых зависимостей:"
      ]
    },
    {
      "cell_type": "code",
      "execution_count": 4,
      "metadata": {
        "id": "kLHQhqiSIyvK",
        "colab": {
          "base_uri": "https://localhost:8080/",
          "height": 0
        },
        "outputId": "19eb53cc-f04b-420b-f69f-1030727ab2d7"
      },
      "outputs": [
        {
          "output_type": "stream",
          "name": "stderr",
          "text": [
            "<ipython-input-4-d75d84943b53>:34: MatplotlibDeprecationWarning: The seaborn styles shipped by Matplotlib are deprecated since 3.6, as they no longer correspond to the styles shipped by seaborn. However, they will remain available as 'seaborn-v0_8-<style>'. Alternatively, directly use the seaborn API instead.\n",
            "  plt.style.use('seaborn-whitegrid')\n"
          ]
        }
      ],
      "source": [
        "from pathlib import Path\n",
        "import numpy as np\n",
        "from typing import List\n",
        "from tqdm.notebook import tqdm\n",
        "from time import sleep\n",
        "from PIL import Image\n",
        "import IPython.display\n",
        "from sklearn.metrics import balanced_accuracy_score, confusion_matrix\n",
        "import gdown\n",
        "\n",
        "import time\n",
        "\n",
        "import torch\n",
        "from torch import nn\n",
        "from torch.nn import functional as F\n",
        "import torchvision\n",
        "from torchvision.transforms import v2\n",
        "\n",
        "import matplotlib as mpl\n",
        "import matplotlib.pyplot as plt\n",
        "import seaborn as sns\n",
        "import warnings; warnings.filterwarnings(action='once')\n",
        "\n",
        "large = 22; med = 16; small = 12\n",
        "params = {'axes.titlesize': large,\n",
        "          'legend.fontsize': med,\n",
        "          'figure.figsize': (16, 10),\n",
        "          'axes.labelsize': med,\n",
        "          'axes.titlesize': med,\n",
        "          'xtick.labelsize': med,\n",
        "          'ytick.labelsize': med,\n",
        "          'figure.titlesize': large}\n",
        "plt.rcParams.update(params)\n",
        "plt.style.use('seaborn-whitegrid')\n",
        "sns.set_style(\"white\")\n",
        "%matplotlib inline"
      ]
    },
    {
      "cell_type": "markdown",
      "metadata": {
        "id": "zKLI3lUyMYO9"
      },
      "source": [
        "---\n",
        "### Класс Dataset\n",
        "\n",
        "Предназначен для работы с наборами данных, обеспечивает чтение изображений и соответствующих меток, а также формирование пакетов (батчей)."
      ]
    },
    {
      "cell_type": "code",
      "execution_count": 5,
      "metadata": {
        "id": "8N169efsw1ej",
        "colab": {
          "base_uri": "https://localhost:8080/",
          "height": 0
        },
        "outputId": "abd58cdb-d59e-4e18-9d2d-f96fe3a41daa"
      },
      "outputs": [
        {
          "output_type": "stream",
          "name": "stderr",
          "text": [
            "/usr/local/lib/python3.10/dist-packages/ipykernel/ipkernel.py:283: DeprecationWarning: `should_run_async` will not call `transform_cell` automatically in the future. Please pass the result to `transformed_cell` argument and any exception that happen during thetransform in `preprocessing_exc_tuple` in IPython 7.17 and above.\n",
            "  and should_run_async(code)\n"
          ]
        }
      ],
      "source": [
        "class Dataset:\n",
        "\n",
        "    def __init__(self, name):\n",
        "        self.name = name\n",
        "        self.is_loaded = False\n",
        "        url = f\"https://drive.google.com/uc?export=download&confirm=pbef&id={DATASETS_LINKS[name]}\"\n",
        "        output = f'{name}.npz'\n",
        "        gdown.download(url, output, quiet=False)\n",
        "        print(f'Loading dataset {self.name} from npz.')\n",
        "        np_obj = np.load(f'{name}.npz')\n",
        "        self.images = np_obj['data']\n",
        "        self.labels = np_obj['labels']\n",
        "        self.n_files = self.images.shape[0]\n",
        "        self.is_loaded = True\n",
        "        print(f'Done. Dataset {name} consists of {self.n_files} images.')\n",
        "\n",
        "    def image(self, i):\n",
        "        # read i-th image in dataset and return it as numpy array\n",
        "        if self.is_loaded:\n",
        "            return self.images[i, :, :, :]\n",
        "\n",
        "    def images_seq(self, n=None):\n",
        "        # sequential access to images inside dataset (is needed for testing)\n",
        "        for i in range(self.n_files if not n else n):\n",
        "            yield self.image(i)\n",
        "\n",
        "    def random_image_with_label(self):\n",
        "        # get random image with label from dataset\n",
        "        i = np.random.randint(self.n_files)\n",
        "        return self.image(i), self.labels[i]\n",
        "\n",
        "    def random_batch_with_labels(self, n):\n",
        "        # create random batch of images with labels (is needed for training)\n",
        "        indices = np.random.choice(self.n_files, n)\n",
        "        imgs = []\n",
        "        for i in indices:\n",
        "            img = self.image(i)\n",
        "            imgs.append(self.image(i))\n",
        "        logits = np.array([self.labels[i] for i in indices])\n",
        "        return np.stack(imgs), logits\n",
        "\n",
        "    def image_with_label(self, i: int):\n",
        "        # return i-th image with label from dataset\n",
        "        return self.image(i), self.labels[i]"
      ]
    },
    {
      "cell_type": "markdown",
      "metadata": {
        "id": "M-LvGqeHYgus"
      },
      "source": [
        "### Пример использвания класса Dataset\n",
        "Загрузим обучающий набор данных, получим произвольное изображение с меткой. После чего визуализируем изображение, выведем метку. В будущем, этот кусок кода можно закомментировать или убрать."
      ]
    },
    {
      "cell_type": "code",
      "execution_count": null,
      "metadata": {
        "id": "HhObWEjGJ1um"
      },
      "outputs": [],
      "source": [
        "d_train_tiny = Dataset('train_tiny')\n",
        "\n",
        "img, lbl = d_train_tiny.random_image_with_label()\n",
        "print()\n",
        "print(f'Got numpy array of shape {img.shape}, and label with code {lbl}.')\n",
        "print(f'Label code corresponds to {TISSUE_CLASSES[lbl]} class.')\n",
        "\n",
        "pil_img = Image.fromarray(img)\n",
        "IPython.display.display(pil_img)"
      ]
    },
    {
      "cell_type": "markdown",
      "metadata": {
        "id": "qaBXXCWeVLYb"
      },
      "source": [
        "---\n",
        "### Класс Metrics\n",
        "\n",
        "Реализует метрики точности, используемые для оценивания модели:\n",
        "1. точность,\n",
        "2. сбалансированную точность."
      ]
    },
    {
      "cell_type": "code",
      "execution_count": 6,
      "metadata": {
        "id": "5unQ7azTinCZ"
      },
      "outputs": [],
      "source": [
        "class Metrics:\n",
        "\n",
        "    @staticmethod\n",
        "    def accuracy(gt: List[int], pred: List[int]):\n",
        "        assert len(gt) == len(pred), 'gt and prediction should be of equal length'\n",
        "        return sum(int(i[0] == i[1]) for i in zip(gt, pred)) / len(gt)\n",
        "\n",
        "    @staticmethod\n",
        "    def accuracy_balanced(gt: List[int], pred: List[int]):\n",
        "        return balanced_accuracy_score(gt, pred)\n",
        "\n",
        "    @staticmethod\n",
        "    def print_all(gt: List[int], pred: List[int], info: str):\n",
        "        print(f'metrics for {info}:')\n",
        "        print('\\t accuracy {:.4f}:'.format(Metrics.accuracy(gt, pred)))\n",
        "        print('\\t balanced accuracy {:.4f}:'.format(Metrics.accuracy_balanced(gt, pred)))"
      ]
    },
    {
      "cell_type": "markdown",
      "metadata": {
        "id": "N1AHzTJVGU5k"
      },
      "source": [
        "---\n",
        "### Класс Model\n",
        "\n",
        "Класс, хранящий в себе всю информацию о модели.\n",
        "\n",
        "Вам необходимо реализовать методы save, load для сохранения и заргрузки модели. Особенно актуально это будет во время тестирования на дополнительных наборах данных.\n",
        "\n",
        "> *Пожалуйста, убедитесь, что сохранение и загрузка модели работает корректно. Для этого обучите модель, протестируйте, сохраните ее в файл, перезапустите среду выполнения, загрузите обученную модель из файла, вновь протестируйте ее на тестовой выборке и убедитесь в том, что получаемые метрики совпадают с полученными для тестовой выбрки ранее.*\n",
        "\n",
        "\n",
        "Также, Вы можете реализовать дополнительные функции, такие как:\n",
        "1. валидацию модели на части обучающей выборки;\n",
        "2. использование кроссвалидации;\n",
        "3. автоматическое сохранение модели при обучении;\n",
        "4. загрузку модели с какой-то конкретной итерации обучения (если используется итеративное обучение);\n",
        "5. вывод различных показателей в процессе обучения (например, значение функции потерь на каждой эпохе);\n",
        "6. построение графиков, визуализирующих процесс обучения (например, график зависимости функции потерь от номера эпохи обучения);\n",
        "7. автоматическое тестирование на тестовом наборе/наборах данных после каждой эпохи обучения (при использовании итеративного обучения);\n",
        "8. автоматический выбор гиперпараметров модели во время обучения;\n",
        "9. сохранение и визуализацию результатов тестирования;\n",
        "10. Использование аугментации и других способов синтетического расширения набора данных (дополнительным плюсом будет обоснование необходимости и обоснование выбора конкретных типов аугментации)\n",
        "11. и т.д.\n",
        "\n",
        "Полный список опций и дополнений приведен в презентации с описанием задания.\n",
        "\n",
        "При реализации дополнительных функций допускается добавление параметров в существующие методы и добавление новых методов в класс модели."
      ]
    },
    {
      "cell_type": "code",
      "execution_count": 39,
      "metadata": {
        "id": "0pkMiB6mJ7JQ"
      },
      "outputs": [],
      "source": [
        "def kfold_split(num_objects: int,\n",
        "                num_folds: int) -> list[tuple[np.ndarray, np.ndarray]]:\n",
        "    step = num_objects // num_folds\n",
        "    ans = []\n",
        "    for i in range(0, num_folds - 1):\n",
        "        ans.append((np.concatenate((np.arange(0, i * step, dtype=np.int32),\n",
        "                                    np.arange((i + 1) * step, num_objects, dtype=np.int32))), np.arange(i * step, (i + 1) * step, dtype=np.int32)))\n",
        "    ans.append((np.arange(0, (num_folds - 1) * step, dtype=np.int32), np.arange((num_folds - 1) * step, num_objects, dtype=np.int32)))\n",
        "    return ans\n",
        "\n",
        "class Dataloader:\n",
        "    ''' Класс для загрузки батчей из датасета:\n",
        "    1) С применением необходимых для torch преобразований\n",
        "    2) С применинием преобразований гененрирующих дополнительные данные\n",
        "    3) Есть возможность использовать часть тестовой выборки (если нужна частая валидация)\n",
        "    '''\n",
        "    def __init__(self, dataset : Dataset, indices : np.array, batch_size, transforms=None, augmenting_transforms=None, limit=1.):\n",
        "        self.dataset = dataset\n",
        "        self.indices = indices\n",
        "        self.batch_size = batch_size\n",
        "        self.num_batch = len(indices) // batch_size\n",
        "        self.n_batch = -1\n",
        "        self.transforms = transforms\n",
        "        self.augmenting_transforms = augmenting_transforms\n",
        "        self.limit = limit\n",
        "\n",
        "    def __iter__(self):\n",
        "        self.n_batch = 0\n",
        "        return self\n",
        "\n",
        "    def __next__(self):\n",
        "\n",
        "        np.random.shuffle(self.indices)\n",
        "\n",
        "        if self.n_batch < self.num_batch * self.limit:\n",
        "\n",
        "            first = self.n_batch * self.batch_size\n",
        "            images = torch.empty((self.batch_size, 3, 224, 224))\n",
        "            labels = torch.empty(self.batch_size, dtype=torch.int32)\n",
        "\n",
        "            for i in range(self.batch_size):\n",
        "                image, label = self.dataset.image_with_label(self.indices[first + i])\n",
        "                image = torch.from_numpy(image).permute(2, 0, 1)\n",
        "                #LBL6\n",
        "                if self.augmenting_transforms:\n",
        "                    image = self.augmenting_transforms(image)\n",
        "                if self.transforms:\n",
        "                    image = self.transforms(image)\n",
        "                images[i] = image\n",
        "                labels[i] = torch.tensor(label)\n",
        "\n",
        "            self.n_batch += 1\n",
        "            return [images.type(torch.FloatTensor), labels.type(torch.LongTensor)]\n",
        "        else:\n",
        "            raise StopIteration\n",
        "\n",
        "class CrossVal:\n",
        "    #LBL2\n",
        "    def __init__(self, dataset : Dataset, batch_size, num_folds, transforms=None, augmenting_transforms=None, seed=42, limit=(1., 1.)):\n",
        "        self.dataset = dataset\n",
        "        self.batch_size = batch_size\n",
        "        self.num_folds = num_folds\n",
        "        self.folds = kfold_split(dataset.n_files, num_folds)\n",
        "        self.indices = np.arange(0, dataset.n_files)\n",
        "        self.transforms = transforms\n",
        "        self.augmenting_transforms = augmenting_transforms\n",
        "        np.random.seed(seed)\n",
        "        np.random.shuffle(self.indices)\n",
        "        self.n_val = 0\n",
        "        self.limit = limit\n",
        "\n",
        "    def get_train_val(self):\n",
        "        train_indices = self.indices[self.folds[self.n_val][0]]\n",
        "        val_indices = self.indices[self.folds[self.n_val][1]]\n",
        "        self.n_val = (self.n_val + 1) % self.num_folds\n",
        "        return (Dataloader(self.dataset, train_indices, self.batch_size, self.transforms, self.augmenting_transforms, limit=self.limit[0]),\n",
        "                Dataloader(self.dataset, val_indices, self.batch_size, self.transforms, self.augmenting_transforms, limit=self.limit[1]))\n",
        "\n",
        "def create_model(model, num_freeze_layers, num_out_classes):\n",
        "    model.fc = nn.Linear(512, num_out_classes)\n",
        "\n",
        "    for i, layer in enumerate(model.children()):\n",
        "        if i < num_freeze_layers:\n",
        "            for param in layer.parameters():\n",
        "                param.requires_grad = False\n",
        "\n",
        "    return model\n",
        "\n",
        "device = torch.device(\"cuda\" if torch.cuda.is_available() else \"cpu\")\n",
        "\n",
        "def plot_train_process(train_loss, val_loss, train_accuracy, val_accuracy, title_suffix=''):\n",
        "    fig, axes = plt.subplots(1, 2, figsize=(15, 5))\n",
        "\n",
        "    axes[0].set_title(' '.join(['Loss', title_suffix]))\n",
        "    axes[0].plot(train_loss, label='train')\n",
        "    axes[0].plot(val_loss, label='validation')\n",
        "    axes[0].legend()\n",
        "\n",
        "    axes[1].set_title(' '.join(['Validation accuracy', title_suffix]))\n",
        "    axes[1].plot(train_accuracy, label='train')\n",
        "    axes[1].plot(val_accuracy, label='validation')\n",
        "    axes[1].legend()\n",
        "    plt.show()\n",
        "\n",
        "class Model:\n",
        "\n",
        "    def __init__(self):\n",
        "        self.model = create_model(torchvision.models.resnet18(pretrained=True), 6, 9).to(device)\n",
        "        #self.transforms = torchvision.models.ResNet18_Weights.IMAGENET1K_V1.transforms()\n",
        "        self.transforms = v2.Compose([\n",
        "                v2.ToDtype(torch.float32, scale=True),\n",
        "                v2.Normalize([0.485, 0.456, 0.406], [0.229, 0.224, 0.225]),\n",
        "            ])\n",
        "\n",
        "    def save(self, name: str):\n",
        "        torch.save(self.model.state_dict(), f'/content/drive/MyDrive/Digital Pathology/{name}.txt')\n",
        "        #np.savez(f'/content/drive/MyDrive/{name}.npz', data=arr)\n",
        "\n",
        "    def load(self, name: str):\n",
        "        name_to_id_dict = {\n",
        "            'best': '1RYOja4fM77nmqxLUrXJb-FOqd6R9I4A3'\n",
        "        }\n",
        "        output = f'{name}.npz'\n",
        "        gdown.download(f'https://drive.google.com/uc?id={name_to_id_dict[name]}', output, quiet=False)\n",
        "        self.model.load_state_dict(torch.load(output))\n",
        "        self.model.to(device)\n",
        "        self.model.eval()\n",
        "\n",
        "    def evaluate(self, dataloader : Dataloader, loss_fn, weights):\n",
        "\n",
        "        losses = []\n",
        "\n",
        "        num_correct = np.zeros(9, dtype=int)\n",
        "        num_elements = np.zeros(9, dtype=int)\n",
        "\n",
        "        for i, batch in enumerate(dataloader):\n",
        "\n",
        "            # так получаем текущий батч\n",
        "            X_batch, y_batch = batch\n",
        "\n",
        "            with torch.no_grad():\n",
        "                logits = self.model(X_batch.to(device))\n",
        "\n",
        "                loss = loss_fn(logits, y_batch.to(device))\n",
        "                losses.append(loss.item())\n",
        "\n",
        "                y_pred = torch.argmax(logits, dim=1).cpu()\n",
        "                num_elements += (y_batch.numpy()[None, :].T.repeat(9, axis=1) == np.arange(9)).astype(int).sum(axis=0)\n",
        "\n",
        "                num_correct += ((y_batch.numpy()[None, :].T.repeat(9, axis=1) == np.arange(9)).astype(int) * (y_batch.numpy()[None, :].T == y_pred.numpy()[None, :].T).astype(int).repeat(9, axis=1)).sum(axis=0)\n",
        "\n",
        "        acc = num_correct / num_elements\n",
        "        #LBL7\n",
        "        weights = torch.from_numpy(acc ** 6)\n",
        "\n",
        "        accuracy = num_correct.sum() / num_elements.sum()\n",
        "\n",
        "        return accuracy, np.mean(losses), weights\n",
        "\n",
        "    def train(self, dataset: Dataset):\n",
        "\n",
        "        optim = torch.optim.Adamax\n",
        "        lossF = torch.nn.CrossEntropyLoss\n",
        "\n",
        "        learning_rate = 1e-4\n",
        "\n",
        "        optimizer = optim(self.model.parameters(), lr=learning_rate)\n",
        "        #LBL8\n",
        "        scheduler = torch.optim.lr_scheduler.ReduceLROnPlateau(optimizer, 'min', patience=5, threshold=0.01, threshold_mode='rel')\n",
        "\n",
        "\n",
        "        #LBL6\n",
        "        augmenting_transforms = v2.Compose([\n",
        "            v2.RandomHorizontalFlip(),\n",
        "            v2.RandomVerticalFlip(),\n",
        "            #v2.ColorJitter(brightness=0.12, contrast=0.3)\n",
        "            ])\n",
        "\n",
        "        batch_size = 32\n",
        "        folds = 10\n",
        "        limit = (0.3, 1.)\n",
        "        dataloader = CrossVal(dataset, batch_size, folds, self.transforms, augmenting_transforms=augmenting_transforms, limit=limit)\n",
        "        print(f'training started')\n",
        "\n",
        "        history = ''\n",
        "\n",
        "        train_loss_history = []\n",
        "        train_acc_history = []\n",
        "        val_loss_history = []\n",
        "        val_acc_history = []\n",
        "\n",
        "        local_train_loss_history = []\n",
        "        local_train_acc_history = []\n",
        "\n",
        "        n_epoch = 40\n",
        "        eval_every = 40\n",
        "\n",
        "        weights = torch.ones(9)\n",
        "\n",
        "        for epoch in range(n_epoch):\n",
        "\n",
        "            print(\"Epoch:\", epoch+1)\n",
        "            history += f\"Epoch: {epoch+1}\\n\"\n",
        "            #LBL7\n",
        "            loss_fn = lossF(weight=weights.type(torch.FloatTensor).to(device))\n",
        "\n",
        "            train, val = dataloader.get_train_val()\n",
        "\n",
        "            self.model.train(True)\n",
        "\n",
        "            for i, batch in enumerate(train):\n",
        "\n",
        "                start_time = time.time()\n",
        "                X_batch, y_batch = batch\n",
        "\n",
        "                logits = self.model(X_batch.to(device))\n",
        "\n",
        "                loss = loss_fn(logits, y_batch.to(device))\n",
        "\n",
        "                loss.backward()\n",
        "                optimizer.step()\n",
        "                optimizer.zero_grad()\n",
        "\n",
        "                model_answers = torch.argmax(logits, dim=1)\n",
        "                train_accuracy = torch.sum(y_batch == model_answers.cpu()) / len(y_batch)\n",
        "\n",
        "                local_train_loss_history.append(loss.item())\n",
        "                local_train_acc_history.append(train_accuracy)\n",
        "\n",
        "                if (i + 1) % eval_every == 0:\n",
        "                    #LBL3\n",
        "                    history += f\"Средние train лосс и accuracy на последних {eval_every} итерациях: {np.mean(local_train_loss_history)} {np.mean(local_train_acc_history)} \\n\"\n",
        "                    print(f\"Средние train лосс и accuracy на последних {eval_every} итерациях:\",\n",
        "                      np.mean(local_train_loss_history), np.mean(local_train_acc_history), end='\\n')\n",
        "\n",
        "            self.model.train(False)\n",
        "\n",
        "            #LBL1\n",
        "            val_accuracy, val_loss, weights = self.evaluate(val, loss_fn, weights)\n",
        "            #LBL8\n",
        "            scheduler.step(val_loss)\n",
        "\n",
        "            train_loss_history.append(np.mean(local_train_loss_history))\n",
        "            train_acc_history.append(np.mean(local_train_acc_history))\n",
        "            val_loss_history.append(val_loss)\n",
        "            val_acc_history.append(val_accuracy)\n",
        "\n",
        "            IPython.display.clear_output(wait=True)\n",
        "            #LBL4\n",
        "            plot_train_process(train_loss_history, val_loss_history, train_acc_history, val_acc_history)\n",
        "\n",
        "            history += f\"Эпоха {epoch+1}/{n_epoch}: val лосс и accuracy: {val_loss} {val_accuracy} \\n\"\n",
        "            history += f\"New weights {weights} \\n\"\n",
        "            history += f\"Learning rate {optimizer.state_dict()['param_groups'][0]['lr']} \\n\"\n",
        "            #self.save(f'Epoch {epoch+1} Val accuracy {val_accuracy}')\n",
        "            #LBL3\n",
        "            print(history)\n",
        "\n",
        "        print(f'training done')\n",
        "\n",
        "    def test_on_dataset(self, dataset: Dataset, limit=None):\n",
        "        # you can upgrade this code if you want to speed up testing using batches\n",
        "        predictions = []\n",
        "        n = dataset.n_files if not limit else int(dataset.n_files * limit)\n",
        "        for img in tqdm(dataset.images_seq(n), total=n):\n",
        "            predictions.append(self.test_on_image(img))\n",
        "        return predictions\n",
        "\n",
        "    def test_on_image(self, img: np.ndarray):\n",
        "        prediction = self.model(self.transforms(torch.from_numpy(img).permute(2, 0, 1))[None, :, :, :].to(device))\n",
        "        prediction = int(torch.argmax(prediction, dim=1).cpu()[0])\n",
        "        return prediction\n"
      ]
    },
    {
      "cell_type": "markdown",
      "metadata": {
        "id": "ZMpTB6lMr00A"
      },
      "source": [
        "---\n",
        "### Классификация изображений\n",
        "\n",
        "Используя введенные выше классы можем перейти уже непосредственно к обучению модели классификации изображений. Пример общего пайплайна решения задачи приведен ниже. Вы можете его расширять и улучшать. В данном примере используются наборы данных 'train_small' и 'test_small'."
      ]
    },
    {
      "cell_type": "code",
      "execution_count": 10,
      "metadata": {
        "id": "5cTOuZD01Up6",
        "colab": {
          "base_uri": "https://localhost:8080/",
          "height": 0
        },
        "outputId": "66e64dff-bb3e-4400-93c5-b78128bda836"
      },
      "outputs": [
        {
          "output_type": "stream",
          "name": "stderr",
          "text": [
            "Downloading...\n",
            "From: https://drive.google.com/uc?export=download&confirm=pbef&id=1e4GeqU0uIlbJ9_ENJ6mM13kUGwuasuvz\n",
            "To: /content/local_train.npz\n",
            "100%|██████████| 2.10G/2.10G [00:23<00:00, 91.1MB/s]\n"
          ]
        },
        {
          "output_type": "stream",
          "name": "stdout",
          "text": [
            "Loading dataset local_train from npz.\n",
            "Done. Dataset local_train consists of 18000 images.\n"
          ]
        }
      ],
      "source": [
        "#d_train = Dataset('train_small')\n",
        "d_train = Dataset('local_train')"
      ]
    },
    {
      "cell_type": "code",
      "source": [
        "model = Model()"
      ],
      "metadata": {
        "id": "ZlQv6UWYA5Ce",
        "colab": {
          "base_uri": "https://localhost:8080/",
          "height": 0
        },
        "outputId": "d850bd70-8a24-4e24-8ca2-c59651f8e730"
      },
      "execution_count": 44,
      "outputs": [
        {
          "output_type": "stream",
          "name": "stderr",
          "text": [
            "/usr/local/lib/python3.10/dist-packages/torchvision/models/_utils.py:208: UserWarning: The parameter 'pretrained' is deprecated since 0.13 and may be removed in the future, please use 'weights' instead.\n",
            "  warnings.warn(\n",
            "/usr/local/lib/python3.10/dist-packages/torchvision/models/_utils.py:223: UserWarning: Arguments other than a weight enum or `None` for 'weights' are deprecated since 0.13 and may be removed in the future. The current behavior is equivalent to passing `weights=ResNet18_Weights.IMAGENET1K_V1`. You can also use `weights=ResNet18_Weights.DEFAULT` to get the most up-to-date weights.\n",
            "  warnings.warn(msg)\n"
          ]
        }
      ]
    },
    {
      "cell_type": "code",
      "source": [
        "model.load('best')"
      ],
      "metadata": {
        "colab": {
          "base_uri": "https://localhost:8080/",
          "height": 0
        },
        "id": "wInquZozc9dh",
        "outputId": "e257a98d-a68e-4dea-d74e-583bba35e71b"
      },
      "execution_count": 54,
      "outputs": [
        {
          "output_type": "stream",
          "name": "stderr",
          "text": [
            "Downloading...\n",
            "From: https://drive.google.com/uc?id=1RYOja4fM77nmqxLUrXJb-FOqd6R9I4A3\n",
            "To: /content/best.npz\n",
            "100%|██████████| 44.8M/44.8M [00:00<00:00, 186MB/s]\n"
          ]
        }
      ]
    },
    {
      "cell_type": "code",
      "source": [
        "for i, layer in enumerate(model.model.children()):\n",
        "    if i < 3:\n",
        "        for param in layer.parameters():\n",
        "            param.requires_grad = False\n",
        "    else:\n",
        "        for param in layer.parameters():\n",
        "            param.requires_grad = True"
      ],
      "metadata": {
        "id": "ID8B6EVE4s5X"
      },
      "execution_count": 50,
      "outputs": []
    },
    {
      "cell_type": "code",
      "execution_count": 51,
      "metadata": {
        "id": "wBi0XpXg8_wq",
        "colab": {
          "base_uri": "https://localhost:8080/",
          "height": 5180
        },
        "outputId": "20b97521-fff5-49f3-d02a-578f7b54887e"
      },
      "outputs": [
        {
          "output_type": "display_data",
          "data": {
            "text/plain": [
              "<Figure size 1500x500 with 2 Axes>"
            ],
            "image/png": "[encoded data removed]"
          },
          "metadata": {}
        },
        {
          "output_type": "stream",
          "name": "stdout",
          "text": [
            "Epoch: 1\n",
            "Средние train лосс и accuracy на последних 40 итерациях: 0.0003929504780629145 1.0 \n",
            "Средние train лосс и accuracy на последних 40 итерациях: 0.0004660609637859636 1.0 \n",
            "Средние train лосс и accuracy на последних 40 итерациях: 0.00048215150088471624 1.0 \n",
            "Эпоха 1/40: val лосс и accuracy: 0.00035682546824286225 1.0 \n",
            "New weights tensor([1., 1., 1., 1., 1., 1., 1., 1., 1.], dtype=torch.float64) \n",
            "Learning rate 0.0001 \n",
            "Epoch: 2\n",
            "Средние train лосс и accuracy на последних 40 итерациях: 0.0005217661510158086 1.0 \n",
            "Средние train лосс и accuracy на последних 40 итерациях: 0.00047875581951497626 1.0 \n",
            "Средние train лосс и accuracy на последних 40 итерациях: 0.0004435255765686296 1.0 \n",
            "Эпоха 2/40: val лосс и accuracy: 8.233068752667399e-05 1.0 \n",
            "New weights tensor([1., 1., 1., 1., 1., 1., 1., 1., 1.], dtype=torch.float64) \n",
            "Learning rate 0.0001 \n",
            "Epoch: 3\n",
            "Средние train лосс и accuracy на последних 40 итерациях: 0.00043955145811959835 1.0 \n",
            "Средние train лосс и accuracy на последних 40 итерациях: 0.00040979442524665305 1.0 \n",
            "Средние train лосс и accuracy на последних 40 итерациях: 0.00040560376904366803 1.0 \n",
            "Эпоха 3/40: val лосс и accuracy: 9.218671364205225e-05 1.0 \n",
            "New weights tensor([1., 1., 1., 1., 1., 1., 1., 1., 1.], dtype=torch.float64) \n",
            "Learning rate 0.0001 \n",
            "Epoch: 4\n",
            "Средние train лосс и accuracy на последних 40 итерациях: 0.00036538572826927407 1.0 \n",
            "Средние train лосс и accuracy на последних 40 итерациях: 0.00035340330530834167 1.0 \n",
            "Средние train лосс и accuracy на последних 40 итерациях: 0.00035805721370183206 1.0 \n",
            "Эпоха 4/40: val лосс и accuracy: 0.0002893906176016766 1.0 \n",
            "New weights tensor([1., 1., 1., 1., 1., 1., 1., 1., 1.], dtype=torch.float64) \n",
            "Learning rate 0.0001 \n",
            "Epoch: 5\n",
            "Средние train лосс и accuracy на последних 40 итерациях: 0.0003643758096958794 1.0 \n",
            "Средние train лосс и accuracy на последних 40 итерациях: 0.0003522856253074273 1.0 \n",
            "Средние train лосс и accuracy на последних 40 итерациях: 0.0003441473685001185 1.0 \n",
            "Эпоха 5/40: val лосс и accuracy: 0.00021900121422951152 1.0 \n",
            "New weights tensor([1., 1., 1., 1., 1., 1., 1., 1., 1.], dtype=torch.float64) \n",
            "Learning rate 0.0001 \n",
            "Epoch: 6\n",
            "Средние train лосс и accuracy на последних 40 итерациях: 0.0003430594601302772 1.0 \n",
            "Средние train лосс и accuracy на последних 40 итерациях: 0.00034176187200521163 1.0 \n",
            "Средние train лосс и accuracy на последних 40 итерациях: 0.0003360514966329669 1.0 \n",
            "Эпоха 6/40: val лосс и accuracy: 0.005718601423295817 0.9983258928571429 \n",
            "New weights tensor([1.0000, 1.0000, 1.0000, 1.0000, 1.0000, 0.9445, 0.9678, 1.0000, 1.0000],\n",
            "       dtype=torch.float64) \n",
            "Learning rate 0.0001 \n",
            "Epoch: 7\n",
            "Средние train лосс и accuracy на последних 40 итерациях: 0.0004055950809487882 0.9999671578407288 \n",
            "Средние train лосс и accuracy на последних 40 итерациях: 0.00039949092134554165 0.9999684691429138 \n",
            "Средние train лосс и accuracy на последних 40 итерациях: 0.00040261738569062416 0.9999697208404541 \n",
            "Эпоха 7/40: val лосс и accuracy: 0.00017294244476114988 1.0 \n",
            "New weights tensor([1., 1., 1., 1., 1., 1., 1., 1., 1.], dtype=torch.float64) \n",
            "Learning rate 0.0001 \n",
            "Epoch: 8\n",
            "Средние train лосс и accuracy на последних 40 итерациях: 0.0004044608138422603 0.9999716877937317 \n",
            "Средние train лосс и accuracy на последних 40 итерациях: 0.0003988536364556754 0.9999727010726929 \n",
            "Средние train лосс и accuracy на последних 40 итерациях: 0.0003939696067460618 0.9999735951423645 \n",
            "Эпоха 8/40: val лосс и accuracy: 0.00010062946122754315 1.0 \n",
            "New weights tensor([1., 1., 1., 1., 1., 1., 1., 1., 1.], dtype=torch.float64) \n",
            "Learning rate 1e-05 \n",
            "Epoch: 9\n",
            "Средние train лосс и accuracy на последних 40 итерациях: 0.00038887344307020875 0.9999751448631287 \n",
            "Средние train лосс и accuracy на последних 40 итерациях: 0.00042145346751512293 0.9999517798423767 \n",
            "Средние train лосс и accuracy на последних 40 итерациях: 0.00041479212162698277 0.9999532103538513 \n",
            "Эпоха 9/40: val лосс и accuracy: 0.00018894899320441385 1.0 \n",
            "New weights tensor([1., 1., 1., 1., 1., 1., 1., 1., 1.], dtype=torch.float64) \n",
            "Learning rate 1e-05 \n",
            "Epoch: 10\n",
            "Средние train лосс и accuracy на последних 40 итерациях: 0.0004057866801828635 0.9999555945396423 \n",
            "Средние train лосс и accuracy на последних 40 итерациях: 0.00040200216143836527 0.9999568462371826 \n",
            "Средние train лосс и accuracy на последних 40 итерациях: 0.00040346592709830144 0.9999579787254333 \n",
            "Эпоха 10/40: val лосс и accuracy: 2.906511723769053e-05 1.0 \n",
            "New weights tensor([1., 1., 1., 1., 1., 1., 1., 1., 1.], dtype=torch.float64) \n",
            "Learning rate 1e-05 \n",
            "Epoch: 11\n",
            "Средние train лосс и accuracy на последних 40 итерациях: 0.0003928595157835829 0.9999599456787109 \n",
            "Средние train лосс и accuracy на последних 40 итерациях: 0.00040662887884561626 0.9999609589576721 \n",
            "Средние train лосс и accuracy на последних 40 итерациях: 0.0004145508634611768 0.9999619126319885 \n",
            "Эпоха 11/40: val лосс и accuracy: 0.000133192058081631 1.0 \n",
            "New weights tensor([1., 1., 1., 1., 1., 1., 1., 1., 1.], dtype=torch.float64) \n",
            "Learning rate 1e-05 \n",
            "Epoch: 12\n",
            "Средние train лосс и accuracy на последних 40 итерациях: 0.00043761991688783116 0.9999452233314514 \n",
            "Средние train лосс и accuracy на последних 40 итерациях: 0.0004353796556713714 0.9999464750289917 \n",
            "Средние train лосс и accuracy на последних 40 итерациях: 0.00043740560470070404 0.9999476671218872 \n",
            "Эпоха 12/40: val лосс и accuracy: 3.7224235370051216e-05 1.0 \n",
            "New weights tensor([1., 1., 1., 1., 1., 1., 1., 1., 1.], dtype=torch.float64) \n",
            "Learning rate 1e-05 \n",
            "Epoch: 13\n",
            "Средние train лосс и accuracy на последних 40 итерациях: 0.00047618988361623456 0.9999329447746277 \n",
            "Средние train лосс и accuracy на последних 40 итерациях: 0.00046935084021029397 0.9999343752861023 \n",
            "Средние train лосс и accuracy на последних 40 итерациях: 0.0004717436893318824 0.9999356865882874 \n",
            "Эпоха 13/40: val лосс и accuracy: 0.00010243222952206159 1.0 \n",
            "New weights tensor([1., 1., 1., 1., 1., 1., 1., 1., 1.], dtype=torch.float64) \n",
            "Learning rate 1e-05 \n",
            "Epoch: 14\n",
            "Средние train лосс и accuracy на последних 40 итерациях: 0.0005035624048989492 0.9999070167541504 \n",
            "Средние train лосс и accuracy на последних 40 итерациях: 0.0005006880029230765 0.9999088048934937 \n",
            "Средние train лосс и accuracy на последних 40 итерациях: 0.000498283797274284 0.9999105334281921 \n",
            "Эпоха 14/40: val лосс и accuracy: 0.0016296424710051025 0.9994419642857143 \n",
            "New weights tensor([1.0000, 1.0000, 1.0000, 1.0000, 1.0000, 1.0000, 1.0000, 0.9724, 1.0000],\n",
            "       dtype=torch.float64) \n",
            "Learning rate 1e-05 \n",
            "Epoch: 15\n",
            "Средние train лосс и accuracy на последних 40 итерациях: 0.0005026896136681586 0.9999135136604309 \n",
            "Средние train лосс и accuracy на последних 40 итерациях: 0.0005027575722413728 0.9999150633811951 \n",
            "Средние train лосс и accuracy на последних 40 итерациях: 0.0004988030458325894 0.9999166131019592 \n",
            "Эпоха 15/40: val лосс и accuracy: 0.00010340799839728529 1.0 \n",
            "New weights tensor([1., 1., 1., 1., 1., 1., 1., 1., 1.], dtype=torch.float64) \n",
            "Learning rate 1e-05 \n",
            "Epoch: 16\n",
            "Средние train лосс и accuracy на последних 40 итерациях: 0.0005024127141982492 0.9999057054519653 \n",
            "Средние train лосс и accuracy на последних 40 итерациях: 0.0005003141022441074 0.9999073147773743 \n",
            "Средние train лосс и accuracy на последних 40 итерациях: 0.000571737686194614 0.9998828172683716 \n",
            "Эпоха 16/40: val лосс и accuracy: 0.000911860243364109 1.0 \n",
            "New weights tensor([1., 1., 1., 1., 1., 1., 1., 1., 1.], dtype=torch.float64) \n",
            "Learning rate 1.0000000000000002e-06 \n",
            "Epoch: 17\n",
            "Средние train лосс и accuracy на последних 40 итерациях: 0.0005987188297034496 0.999860942363739 \n",
            "Средние train лосс и accuracy на последних 40 итерациях: 0.0006139808565930313 0.9998631477355957 \n",
            "Средние train лосс и accuracy на последних 40 итерациях: 0.0006459448753010492 0.9998530745506287 \n",
            "Эпоха 17/40: val лосс и accuracy: 0.0001236672858908605 1.0 \n",
            "New weights tensor([1., 1., 1., 1., 1., 1., 1., 1., 1.], dtype=torch.float64) \n",
            "Learning rate 1.0000000000000002e-06 \n",
            "Epoch: 18\n",
            "Средние train лосс и accuracy на последних 40 итерациях: 0.0007132879275251734 0.9998332858085632 \n",
            "Средние train лосс и accuracy на последних 40 итерациях: 0.0007229956243846856 0.999824047088623 \n",
            "Средние train лосс и accuracy на последних 40 итерациях: 0.0007221384744399657 0.9998266696929932 \n",
            "Эпоха 18/40: val лосс и accuracy: 6.843664481185183e-05 1.0 \n",
            "New weights tensor([1., 1., 1., 1., 1., 1., 1., 1., 1.], dtype=torch.float64) \n",
            "Learning rate 1.0000000000000002e-06 \n",
            "Epoch: 19\n",
            "Средние train лосс и accuracy на последних 40 итерациях: 0.0007313697422760675 0.9998198747634888 \n",
            "Средние train лосс и accuracy на последних 40 итерациях: 0.000738645578038246 0.9998224377632141 \n",
            "Средние train лосс и accuracy на последних 40 итерациях: 0.0007382464838413853 0.9998249411582947 \n",
            "Эпоха 19/40: val лосс и accuracy: 0.00019404715267004998 1.0 \n",
            "New weights tensor([1., 1., 1., 1., 1., 1., 1., 1., 1.], dtype=torch.float64) \n",
            "Learning rate 1.0000000000000002e-06 \n",
            "Epoch: 20\n",
            "Средние train лосс и accuracy на последних 40 итерациях: 0.0007331784235188994 0.9998292326927185 \n",
            "Средние train лосс и accuracy на последних 40 итерациях: 0.0007263567947928568 0.9998315572738647 \n",
            "Средние train лосс и accuracy на последних 40 итерациях: 0.0007229214949034449 0.9998337626457214 \n",
            "Эпоха 20/40: val лосс и accuracy: 0.00018323300363525568 1.0 \n",
            "New weights tensor([1., 1., 1., 1., 1., 1., 1., 1., 1.], dtype=torch.float64) \n",
            "Learning rate 1.0000000000000002e-06 \n",
            "Epoch: 21\n",
            "Средние train лосс и accuracy на последних 40 итерациях: 0.000735656477862857 0.99982750415802 \n",
            "Средние train лосс и accuracy на последних 40 итерациях: 0.0007319302889906673 0.9998297095298767 \n",
            "Средние train лосс и accuracy на последних 40 итерациях: 0.0007592349912040081 0.9998220205307007 \n",
            "Эпоха 21/40: val лосс и accuracy: 0.0004079188890579693 1.0 \n",
            "New weights tensor([1., 1., 1., 1., 1., 1., 1., 1., 1.], dtype=torch.float64) \n",
            "Learning rate 1.0000000000000002e-06 \n",
            "Epoch: 22\n",
            "Средние train лосс и accuracy на последних 40 итерациях: 0.0007867447671135601 0.9998066425323486 \n",
            "Средние train лосс и accuracy на последних 40 итерациях: 0.0007894353378051774 0.9998089671134949 \n",
            "Средние train лосс и accuracy на последних 40 итерациях: 0.0007859214931622089 0.9998112916946411 \n",
            "Эпоха 22/40: val лосс и accuracy: 0.0002821671108027398 1.0 \n",
            "New weights tensor([1., 1., 1., 1., 1., 1., 1., 1., 1.], dtype=torch.float64) \n",
            "Learning rate 1.0000000000000002e-07 \n",
            "Epoch: 23\n",
            "Средние train лосс и accuracy на последних 40 итерациях: 0.000778428754038683 0.9998152852058411 \n",
            "Средние train лосс и accuracy на последних 40 итерациях: 0.0007720613060174911 0.9998174905776978 \n",
            "Средние train лосс и accuracy на последних 40 итерациях: 0.0007741588848283226 0.9998195767402649 \n",
            "Эпоха 23/40: val лосс и accuracy: 6.689424073361547e-05 1.0 \n",
            "New weights tensor([1., 1., 1., 1., 1., 1., 1., 1., 1.], dtype=torch.float64) \n",
            "Learning rate 1.0000000000000002e-07 \n",
            "Epoch: 24\n",
            "Средние train лосс и accuracy на последних 40 итерациях: 0.0007653854785411527 0.999823272228241 \n",
            "Средние train лосс и accuracy на последних 40 итерациях: 0.0007648462864593926 0.9998252391815186 \n",
            "Средние train лосс и accuracy на последних 40 итерациях: 0.0007601750421940999 0.9998271465301514 \n",
            "Эпоха 24/40: val лосс и accuracy: 0.0009176886372220647 0.9994419642857143 \n",
            "New weights tensor([1.0000, 1.0000, 1.0000, 1.0000, 1.0000, 1.0000, 1.0000, 0.9749, 1.0000],\n",
            "       dtype=torch.float64) \n",
            "Learning rate 1.0000000000000002e-07 \n",
            "Epoch: 25\n",
            "Средние train лосс и accuracy на последних 40 итерациях: 0.000790426519360808 0.9998135566711426 \n",
            "Средние train лосс и accuracy на последних 40 итерациях: 0.0008133395431566872 0.9997988343238831 \n",
            "Средние train лосс и accuracy на последних 40 итерациях: 0.000810303268604919 0.999800980091095 \n",
            "Эпоха 25/40: val лосс и accuracy: 0.000260795078215129 1.0 \n",
            "New weights tensor([1., 1., 1., 1., 1., 1., 1., 1., 1.], dtype=torch.float64) \n",
            "Learning rate 1.0000000000000002e-07 \n",
            "Epoch: 26\n",
            "Средние train лосс и accuracy на последних 40 итерациях: 0.0008081147747438511 0.999804675579071 \n",
            "Средние train лосс и accuracy на последних 40 итерациях: 0.0008042090355361506 0.9998067021369934 \n",
            "Средние train лосс и accuracy на последних 40 итерациях: 0.000803835023778175 0.999808669090271 \n",
            "Эпоха 26/40: val лосс и accuracy: 0.000305283967059771 1.0 \n",
            "New weights tensor([1., 1., 1., 1., 1., 1., 1., 1., 1.], dtype=torch.float64) \n",
            "Learning rate 1.0000000000000002e-07 \n",
            "Epoch: 27\n",
            "Средние train лосс и accuracy на последних 40 итерациях: 0.0007995361818790609 0.999812126159668 \n",
            "Средние train лосс и accuracy на последних 40 итерациях: 0.0007949126480877452 0.999813973903656 \n",
            "Средние train лосс и accuracy на последних 40 итерациях: 0.000796958546643254 0.999815821647644 \n",
            "Эпоха 27/40: val лосс и accuracy: 5.542415365310051e-05 1.0 \n",
            "New weights tensor([1., 1., 1., 1., 1., 1., 1., 1., 1.], dtype=torch.float64) \n",
            "Learning rate 1.0000000000000002e-07 \n",
            "Epoch: 28\n",
            "Средние train лосс и accuracy на последних 40 итерациях: 0.0007955995492092 0.9998190402984619 \n",
            "Средние train лосс и accuracy на последних 40 итерациях: 0.0007989499920877275 0.9998207688331604 \n",
            "Средние train лосс и accuracy на последних 40 итерациях: 0.0007987181072202491 0.9998224377632141 \n",
            "Эпоха 28/40: val лосс и accuracy: 4.5164905916042895e-05 1.0 \n",
            "New weights tensor([1., 1., 1., 1., 1., 1., 1., 1., 1.], dtype=torch.float64) \n",
            "Learning rate 1.0000000000000004e-08 \n",
            "Epoch: 29\n",
            "Средние train лосс и accuracy на последних 40 итерациях: 0.0008215997340534665 0.9998181462287903 \n",
            "Средние train лосс и accuracy на последних 40 итерациях: 0.000822453776337727 0.999819815158844 \n",
            "Средние train лосс и accuracy на последних 40 итерациях: 0.0008190417628385863 0.9998214840888977 \n",
            "Эпоха 29/40: val лосс и accuracy: 5.985496472454039e-05 1.0 \n",
            "New weights tensor([1., 1., 1., 1., 1., 1., 1., 1., 1.], dtype=torch.float64) \n",
            "Learning rate 1.0000000000000004e-08 \n",
            "Epoch: 30\n",
            "Средние train лосс и accuracy на последних 40 итерациях: 0.0008174077999899082 0.9998243451118469 \n",
            "Средние train лосс и accuracy на последних 40 итерациях: 0.0008138795907043661 0.9998259544372559 \n",
            "Средние train лосс и accuracy на последних 40 итерациях: 0.0008289923203660803 0.9998136758804321 \n",
            "Эпоха 30/40: val лосс и accuracy: 0.00023696825053016419 1.0 \n",
            "New weights tensor([1., 1., 1., 1., 1., 1., 1., 1., 1.], dtype=torch.float64) \n",
            "Learning rate 1.0000000000000004e-08 \n",
            "Epoch: 31\n",
            "Средние train лосс и accuracy на последних 40 итерациях: 0.0008396658037831875 0.9998030066490173 \n",
            "Средние train лосс и accuracy на последних 40 итерациях: 0.0008373481402370429 0.999804675579071 \n",
            "Средние train лосс и accuracy на последних 40 итерациях: 0.0008336116514391728 0.9998063445091248 \n",
            "Эпоха 31/40: val лосс и accuracy: 0.00015474564981080415 1.0 \n",
            "New weights tensor([1., 1., 1., 1., 1., 1., 1., 1., 1.], dtype=torch.float64) \n",
            "Learning rate 1.0000000000000004e-08 \n",
            "Epoch: 32\n",
            "Средние train лосс и accuracy на последних 40 итерациях: 0.000837967691416898 0.9998092651367188 \n",
            "Средние train лосс и accuracy на последних 40 итерациях: 0.0009057868557249727 0.9997913241386414 \n",
            "Средние train лосс и accuracy на последних 40 итерациях: 0.0009195499602999047 0.9997865557670593 \n",
            "Эпоха 32/40: val лосс и accuracy: 0.00036456961603091386 1.0 \n",
            "New weights tensor([1., 1., 1., 1., 1., 1., 1., 1., 1.], dtype=torch.float64) \n",
            "Learning rate 1.0000000000000004e-08 \n",
            "Epoch: 33\n",
            "Средние train лосс и accuracy на последних 40 итерациях: 0.0009212747186645264 0.9997833371162415 \n",
            "Средние train лосс и accuracy на последних 40 итерациях: 0.0009316088818829893 0.9997787475585938 \n",
            "Средние train лосс и accuracy на последних 40 итерациях: 0.0009281751895614972 0.999780535697937 \n",
            "Эпоха 33/40: val лосс и accuracy: 0.0008537232977993929 0.9994419642857143 \n",
            "New weights tensor([1.0000, 1.0000, 1.0000, 1.0000, 0.9739, 1.0000, 1.0000, 1.0000, 1.0000],\n",
            "       dtype=torch.float64) \n",
            "Learning rate 1.0000000000000004e-08 \n",
            "Epoch: 34\n",
            "Средние train лосс и accuracy на последних 40 итерациях: 0.0009252339142820228 0.9997836947441101 \n",
            "Средние train лосс и accuracy на последних 40 итерациях: 0.0009316954142803701 0.999779224395752 \n",
            "Средние train лосс и accuracy на последних 40 итерациях: 0.0009366885234755162 0.9997748732566833 \n",
            "Эпоха 34/40: val лосс и accuracy: 0.0004915811932961438 1.0 \n",
            "New weights tensor([1., 1., 1., 1., 1., 1., 1., 1., 1.], dtype=torch.float64) \n",
            "Learning rate 1.0000000000000004e-08 \n",
            "Epoch: 35\n",
            "Средние train лосс и accuracy на последних 40 итерациях: 0.0009832355092691761 0.9997659921646118 \n",
            "Средние train лосс и accuracy на последних 40 итерациях: 0.0010001721010548634 0.9997618198394775 \n",
            "Средние train лосс и accuracy на последних 40 итерациях: 0.001014030770162489 0.9997636079788208 \n",
            "Эпоха 35/40: val лосс и accuracy: 0.00010306823250364314 1.0 \n",
            "New weights tensor([1., 1., 1., 1., 1., 1., 1., 1., 1.], dtype=torch.float64) \n",
            "Learning rate 1.0000000000000004e-08 \n",
            "Epoch: 36\n",
            "Средние train лосс и accuracy на последних 40 итерациях: 0.0010097636420576467 0.9997667670249939 \n",
            "Средние train лосс и accuracy на последних 40 итерациях: 0.00102821454828857 0.9997627139091492 \n",
            "Средние train лосс и accuracy на последних 40 итерациях: 0.0010274410201193377 0.9997645020484924 \n",
            "Эпоха 36/40: val лосс и accuracy: 0.0002124783429420875 1.0 \n",
            "New weights tensor([1., 1., 1., 1., 1., 1., 1., 1., 1.], dtype=torch.float64) \n",
            "Learning rate 1.0000000000000004e-08 \n",
            "Epoch: 37\n",
            "Средние train лосс и accuracy на последних 40 итерациях: 0.0010259384128771683 0.999767541885376 \n",
            "Средние train лосс и accuracy на последних 40 итерациях: 0.0010257006021628936 0.9997692108154297 \n",
            "Средние train лосс и accuracy на последних 40 итерациях: 0.0010222433132490107 0.9997708797454834 \n",
            "Эпоха 37/40: val лосс и accuracy: 0.00011318600342186918 1.0 \n",
            "New weights tensor([1., 1., 1., 1., 1., 1., 1., 1., 1.], dtype=torch.float64) \n",
            "Learning rate 1.0000000000000004e-08 \n",
            "Epoch: 38\n",
            "Средние train лосс и accuracy на последних 40 итерациях: 0.0010231379862809336 0.9997682571411133 \n",
            "Средние train лосс и accuracy на последних 40 итерациях: 0.001018591651949356 0.999769926071167 \n",
            "Средние train лосс и accuracy на последних 40 итерациях: 0.0010327456956349735 0.9997660517692566 \n",
            "Эпоха 38/40: val лосс и accuracy: 0.0001535437744126154 1.0 \n",
            "New weights tensor([1., 1., 1., 1., 1., 1., 1., 1., 1.], dtype=torch.float64) \n",
            "Learning rate 1.0000000000000004e-08 \n",
            "Epoch: 39\n",
            "Средние train лосс и accuracy на последних 40 итерациях: 0.0010603995362531602 0.9997528195381165 \n",
            "Средние train лосс и accuracy на последних 40 итерациях: 0.0010598914836646763 0.9997545480728149 \n",
            "Средние train лосс и accuracy на последних 40 итерациях: 0.0010556088513157082 0.9997562170028687 \n",
            "Эпоха 39/40: val лосс и accuracy: 0.0001440839464313472 1.0 \n",
            "New weights tensor([1., 1., 1., 1., 1., 1., 1., 1., 1.], dtype=torch.float64) \n",
            "Learning rate 1.0000000000000004e-08 \n",
            "Epoch: 40\n",
            "Средние train лосс и accuracy на последних 40 итерациях: 0.0010583348898465942 0.9997538924217224 \n",
            "Средние train лосс и accuracy на последних 40 итерациях: 0.0010675647548154654 0.9997503161430359 \n",
            "Средние train лосс и accuracy на последних 40 итерациях: 0.0010641154995120106 0.9997519850730896 \n",
            "Эпоха 40/40: val лосс и accuracy: 3.7863305015507975e-05 1.0 \n",
            "New weights tensor([1., 1., 1., 1., 1., 1., 1., 1., 1.], dtype=torch.float64) \n",
            "Learning rate 1.0000000000000004e-08 \n",
            "\n",
            "training done\n"
          ]
        }
      ],
      "source": [
        "if not EVALUATE_ONLY:\n",
        "    model.train(d_train)\n",
        "    model.save('best')\n",
        "else:\n",
        "    #todo: your link goes here\n",
        "    model.load('best')"
      ]
    },
    {
      "cell_type": "code",
      "source": [
        "#LBL5\n",
        "def conf_matrix(gt: List[int], pred: List[int]):\n",
        "    plt.figure(figsize=(8,6), dpi= 80)\n",
        "    matrix = confusion_matrix(gt, pred)\n",
        "    sns.heatmap(matrix, xticklabels=np.arange(9), yticklabels=np.arange(9), cmap='RdYlGn', center=0, annot=True)\n",
        "\n",
        "    # Decorations\n",
        "    plt.title('Confusion Matrix', fontsize=22)\n",
        "    plt.xticks(fontsize=12)\n",
        "    plt.yticks(fontsize=12)\n",
        "    plt.show()"
      ],
      "metadata": {
        "id": "YTOLak4jQjQK"
      },
      "execution_count": 59,
      "outputs": []
    },
    {
      "cell_type": "markdown",
      "metadata": {
        "id": "CcM2EiRMVP93"
      },
      "source": [
        "Пример тестирования модели на части набора данных:"
      ]
    },
    {
      "cell_type": "code",
      "execution_count": null,
      "metadata": {
        "id": "I0AqmeLEKqrs"
      },
      "outputs": [],
      "source": [
        "# evaluating model on 10% of test dataset\n",
        "pred_1 = model.test_on_dataset(d_test, limit=0.1)\n",
        "conf_matrix(d_test.labels[:len(pred_1)], pred_1)\n",
        "Metrics.print_all(d_test.labels[:len(pred_1)], pred_1, '10% of test')"
      ]
    },
    {
      "cell_type": "code",
      "source": [
        "d_real_test = Dataset('local_test')"
      ],
      "metadata": {
        "colab": {
          "base_uri": "https://localhost:8080/",
          "height": 0
        },
        "id": "QfK7qwJdS12R",
        "outputId": "d41cd8eb-f107-47bc-d273-e2313508145f"
      },
      "execution_count": 35,
      "outputs": [
        {
          "output_type": "stream",
          "name": "stderr",
          "text": [
            "Downloading...\n",
            "From: https://drive.google.com/uc?export=download&confirm=pbef&id=1jU1N5Ki9ikwdJMAaqy7xhVMz2ZNKzWj_\n",
            "To: /content/local_test.npz\n",
            "100%|██████████| 525M/525M [00:05<00:00, 100MB/s] \n"
          ]
        },
        {
          "output_type": "stream",
          "name": "stdout",
          "text": [
            "Loading dataset local_test from npz.\n",
            "Done. Dataset local_test consists of 4500 images.\n"
          ]
        }
      ]
    },
    {
      "cell_type": "markdown",
      "metadata": {
        "id": "mSwvHVVzVWZ5"
      },
      "source": [
        "Пример тестирования модели на полном наборе данных:"
      ]
    },
    {
      "cell_type": "code",
      "execution_count": 60,
      "metadata": {
        "id": "mjI_sbMi3TMY",
        "colab": {
          "base_uri": "https://localhost:8080/",
          "height": 529,
          "referenced_widgets": [
            "79f0c17c82244b73bc59086aa4386777",
            "2fd1ead5597545f59c00b9bf6c37870a",
            "aef838242cb24eb0abd58abc73aa6252",
            "a45f05f565b94b0685b12bca3986a270",
            "edfe958060384aed87ec3c22e4801b99",
            "93a36a86e0804df09f86af043565cce2",
            "ef69aba87809420eadff7f37e7dcfc56",
            "38304ef2029241e49ec83849eb31e1f1",
            "2a486b3f9c14417daf8adc8cc9b26926",
            "e6a3aadac9754198aa5e509ee01bea7f",
            "7675c649fd9a454aa82165046a5fdb6e"
          ]
        },
        "outputId": "1d46b816-eeb2-497b-ca77-9a017b661d7f"
      },
      "outputs": [
        {
          "output_type": "display_data",
          "data": {
            "text/plain": [
              "  0%|          | 0/4500 [00:00<?, ?it/s]"
            ],
            "application/vnd.jupyter.widget-view+json": {
              "version_major": 2,
              "version_minor": 0,
              "model_id": "79f0c17c82244b73bc59086aa4386777"
            }
          },
          "metadata": {}
        },
        {
          "output_type": "display_data",
          "data": {
            "text/plain": [
              "<Figure size 640x480 with 2 Axes>"
            ],
            "image/png": "[encoded data removed]"
          },
          "metadata": {}
        },
        {
          "output_type": "stream",
          "name": "stdout",
          "text": [
            "metrics for test:\n",
            "\t accuracy 0.9940:\n",
            "\t balanced accuracy 0.9940:\n"
          ]
        }
      ],
      "source": [
        "# evaluating model on full test dataset (may take time)\n",
        "if TEST_ON_LARGE_DATASET:\n",
        "    pred_2 = model.test_on_dataset(d_real_test)\n",
        "    conf_matrix(d_real_test.labels, pred_2)\n",
        "    Metrics.print_all(d_real_test.labels, pred_2, 'test')"
      ]
    },
    {
      "cell_type": "markdown",
      "metadata": {
        "id": "kvyEHdxEB18o"
      },
      "source": [
        "Результат работы пайплайна обучения и тестирования выше тоже будет оцениваться. Поэтому не забудьте присылать на проверку ноутбук с выполнеными ячейками кода с демонстрациями метрик обучения, графиками и т.п. В этом пайплайне Вам необходимо продемонстрировать работу всех реализованных дополнений, улучшений и т.п.\n",
        "\n",
        "<font color=\"red\">\n",
        "Настоятельно рекомендуется после получения пайплайна с полными результатами обучения экспортировать ноутбук в pdf (файл -> печать) и прислать этот pdf вместе с самим ноутбуком.\n",
        "</font>"
      ]
    },
    {
      "cell_type": "markdown",
      "metadata": {
        "id": "RzSKAvVI6uCW"
      },
      "source": [
        "### Тестирование модели на других наборах данных\n",
        "\n",
        "Ваша модель должна поддерживать тестирование на других наборах данных. Для удобства, Вам предоставляется набор данных test_tiny, который представляет собой малую часть (2% изображений) набора test. Ниже приведен фрагмент кода, который будет осуществлять тестирование для оценивания Вашей модели на дополнительных тестовых наборах данных.\n",
        "\n",
        "<font color=\"red\">\n",
        "Прежде чем отсылать задание на проверку, убедитесь в работоспособности фрагмента кода ниже.\n",
        "</font>"
      ]
    },
    {
      "cell_type": "code",
      "execution_count": 56,
      "metadata": {
        "id": "sdY3uTt87tqv",
        "colab": {
          "base_uri": "https://localhost:8080/",
          "height": 399,
          "referenced_widgets": [
            "54de3bf577954219a54cac785a48abe7",
            "9bbeb2a8e5804f498fede2cbd8da9205",
            "14e7e5a20c8243c3bb9919ab7f87a65e",
            "10057f7208564c79b59115395a5f4d58",
            "621448bfdbf446f9a410cd4f6ca2c3e8",
            "a3c62e2278824f5d86657ba2cff8c33e",
            "a851b00c46684f16a2271f4fa4b09bc2",
            "1e9ed78c73da459bad624bc9e7db336c",
            "d0185ff3b78349928260cbb2eaa5ca33",
            "9298165acd894227bb40b6c25e033ffe",
            "be1dbbe04b4c4ab191e81c8e945fc959"
          ]
        },
        "outputId": "9683a7ed-fd0d-4ad2-b305-ec4eb7e6f2c1"
      },
      "outputs": [
        {
          "output_type": "stream",
          "name": "stderr",
          "text": [
            "/usr/local/lib/python3.10/dist-packages/ipykernel/ipkernel.py:283: DeprecationWarning: `should_run_async` will not call `transform_cell` automatically in the future. Please pass the result to `transformed_cell` argument and any exception that happen during thetransform in `preprocessing_exc_tuple` in IPython 7.17 and above.\n",
            "  and should_run_async(code)\n",
            "/usr/local/lib/python3.10/dist-packages/torchvision/models/_utils.py:208: UserWarning: The parameter 'pretrained' is deprecated since 0.13 and may be removed in the future, please use 'weights' instead.\n",
            "  warnings.warn(\n",
            "/usr/local/lib/python3.10/dist-packages/torchvision/models/_utils.py:223: UserWarning: Arguments other than a weight enum or `None` for 'weights' are deprecated since 0.13 and may be removed in the future. The current behavior is equivalent to passing `weights=ResNet18_Weights.IMAGENET1K_V1`. You can also use `weights=ResNet18_Weights.DEFAULT` to get the most up-to-date weights.\n",
            "  warnings.warn(msg)\n",
            "Downloading...\n",
            "From: https://drive.google.com/uc?id=1RYOja4fM77nmqxLUrXJb-FOqd6R9I4A3\n",
            "To: /content/best.npz\n",
            "100%|██████████| 44.8M/44.8M [00:00<00:00, 193MB/s]\n",
            "Downloading...\n",
            "From: https://drive.google.com/uc?export=download&confirm=pbef&id=1viiB0s041CNsAK4itvX8PnYthJ-MDnQc\n",
            "To: /content/test_tiny.npz\n",
            "100%|██████████| 10.6M/10.6M [00:00<00:00, 126MB/s]"
          ]
        },
        {
          "output_type": "stream",
          "name": "stdout",
          "text": [
            "Loading dataset test_tiny from npz.\n",
            "Done. Dataset test_tiny consists of 90 images.\n"
          ]
        },
        {
          "output_type": "stream",
          "name": "stderr",
          "text": [
            "\n"
          ]
        },
        {
          "output_type": "display_data",
          "data": {
            "text/plain": [
              "  0%|          | 0/90 [00:00<?, ?it/s]"
            ],
            "application/vnd.jupyter.widget-view+json": {
              "version_major": 2,
              "version_minor": 0,
              "model_id": "54de3bf577954219a54cac785a48abe7"
            }
          },
          "metadata": {}
        },
        {
          "output_type": "stream",
          "name": "stdout",
          "text": [
            "metrics for test-tiny:\n",
            "\t accuracy 0.9889:\n",
            "\t balanced accuracy 0.9889:\n"
          ]
        }
      ],
      "source": [
        "final_model = Model()\n",
        "final_model.load('best')\n",
        "d_test_tiny = Dataset('test_tiny')\n",
        "pred = final_model.test_on_dataset(d_test_tiny)\n",
        "Metrics.print_all(d_test_tiny.labels, pred, 'test-tiny')"
      ]
    },
    {
      "cell_type": "markdown",
      "metadata": {
        "id": "lPvyj4gscU10"
      },
      "source": [
        "Отмонтировать Google Drive."
      ]
    },
    {
      "cell_type": "code",
      "execution_count": null,
      "metadata": {
        "id": "NfX35zNSvFWn"
      },
      "outputs": [],
      "source": [
        "drive.flush_and_unmount()"
      ]
    },
    {
      "cell_type": "markdown",
      "metadata": {
        "id": "RMyDxCDCspcI"
      },
      "source": [
        "---\n",
        "# Дополнительные \"полезности\"\n",
        "\n",
        "Ниже приведены примеры использования различных функций и библиотек, которые могут быть полезны при выполнении данного практического задания."
      ]
    },
    {
      "cell_type": "markdown",
      "metadata": {
        "id": "VvLwSttCs1rB"
      },
      "source": [
        "### Измерение времени работы кода\n",
        "\n",
        "Измерять время работы какой-либо функции можно легко и непринужденно при помощи функции timeit из соответствующего модуля:"
      ]
    },
    {
      "cell_type": "code",
      "execution_count": null,
      "metadata": {
        "id": "-HnLVhwE9C9S"
      },
      "outputs": [],
      "source": [
        "import timeit\n",
        "\n",
        "def factorial(n):\n",
        "    res = 1\n",
        "    for i in range(1, n + 1):\n",
        "        res *= i\n",
        "    return res\n",
        "\n",
        "\n",
        "def f():\n",
        "    return factorial(n=1000)\n",
        "\n",
        "n_runs = 128\n",
        "print(f'Function f is caluclated {n_runs} times in {timeit.timeit(f, number=n_runs)}s.')"
      ]
    },
    {
      "cell_type": "markdown",
      "metadata": {
        "id": "fibGVEdguOOi"
      },
      "source": [
        "### Scikit-learn\n",
        "\n",
        "Для использования \"классических\" алгоритмов машинного обучения рекомендуется использовать библиотеку scikit-learn (https://scikit-learn.org/stable/). Пример классификации изображений цифр из набора данных MNIST при помощи классификатора SVM:"
      ]
    },
    {
      "cell_type": "code",
      "execution_count": null,
      "metadata": {
        "id": "vXHnBzEfunAO"
      },
      "outputs": [],
      "source": [
        "# Standard scientific Python imports\n",
        "import matplotlib.pyplot as plt\n",
        "\n",
        "# Import datasets, classifiers and performance metrics\n",
        "from sklearn import datasets, svm, metrics\n",
        "from sklearn.model_selection import train_test_split\n",
        "\n",
        "# The digits dataset\n",
        "digits = datasets.load_digits()\n",
        "\n",
        "# The data that we are interested in is made of 8x8 images of digits, let's\n",
        "# have a look at the first 4 images, stored in the `images` attribute of the\n",
        "# dataset.  If we were working from image files, we could load them using\n",
        "# matplotlib.pyplot.imread.  Note that each image must have the same size. For these\n",
        "# images, we know which digit they represent: it is given in the 'target' of\n",
        "# the dataset.\n",
        "_, axes = plt.subplots(2, 4)\n",
        "images_and_labels = list(zip(digits.images, digits.target))\n",
        "for ax, (image, label) in zip(axes[0, :], images_and_labels[:4]):\n",
        "    ax.set_axis_off()\n",
        "    ax.imshow(image, cmap=plt.cm.gray_r, interpolation='nearest')\n",
        "    ax.set_title('Training: %i' % label)\n",
        "\n",
        "# To apply a classifier on this data, we need to flatten the image, to\n",
        "# turn the data in a (samples, feature) matrix:\n",
        "n_samples = len(digits.images)\n",
        "data = digits.images.reshape((n_samples, -1))\n",
        "\n",
        "# Create a classifier: a support vector classifier\n",
        "classifier = svm.SVC(gamma=0.001)\n",
        "\n",
        "# Split data into train and test subsets\n",
        "X_train, X_test, y_train, y_test = train_test_split(\n",
        "    data, digits.target, test_size=0.5, shuffle=False)\n",
        "\n",
        "# We learn the digits on the first half of the digits\n",
        "classifier.fit(X_train, y_train)\n",
        "\n",
        "# Now predict the value of the digit on the second half:\n",
        "predicted = classifier.predict(X_test)\n",
        "\n",
        "images_and_predictions = list(zip(digits.images[n_samples // 2:], predicted))\n",
        "for ax, (image, prediction) in zip(axes[1, :], images_and_predictions[:4]):\n",
        "    ax.set_axis_off()\n",
        "    ax.imshow(image, cmap=plt.cm.gray_r, interpolation='nearest')\n",
        "    ax.set_title('Prediction: %i' % prediction)\n",
        "\n",
        "print(\"Classification report for classifier %s:\\n%s\\n\"\n",
        "      % (classifier, metrics.classification_report(y_test, predicted)))\n",
        "disp = metrics.plot_confusion_matrix(classifier, X_test, y_test)\n",
        "disp.figure_.suptitle(\"Confusion Matrix\")\n",
        "print(\"Confusion matrix:\\n%s\" % disp.confusion_matrix)\n",
        "\n",
        "plt.show()"
      ]
    },
    {
      "cell_type": "markdown",
      "metadata": {
        "id": "Uu3Dny5zxcVy"
      },
      "source": [
        "### Scikit-image\n",
        "\n",
        "Реализовывать различные операции для работы с изображениями можно как самостоятельно, работая с массивами numpy, так и используя специализированные библиотеки, например, scikit-image (https://scikit-image.org/). Ниже приведен пример использования Canny edge detector."
      ]
    },
    {
      "cell_type": "code",
      "execution_count": null,
      "metadata": {
        "id": "5TZvy_d7xc0B"
      },
      "outputs": [],
      "source": [
        "import numpy as np\n",
        "import matplotlib.pyplot as plt\n",
        "from scipy import ndimage as ndi\n",
        "\n",
        "from skimage import feature\n",
        "\n",
        "\n",
        "# Generate noisy image of a square\n",
        "im = np.zeros((128, 128))\n",
        "im[32:-32, 32:-32] = 1\n",
        "\n",
        "im = ndi.rotate(im, 15, mode='constant')\n",
        "im = ndi.gaussian_filter(im, 4)\n",
        "im += 0.2 * np.random.random(im.shape)\n",
        "\n",
        "# Compute the Canny filter for two values of sigma\n",
        "edges1 = feature.canny(im)\n",
        "edges2 = feature.canny(im, sigma=3)\n",
        "\n",
        "# display results\n",
        "fig, (ax1, ax2, ax3) = plt.subplots(nrows=1, ncols=3, figsize=(8, 3),\n",
        "                                    sharex=True, sharey=True)\n",
        "\n",
        "ax1.imshow(im, cmap=plt.cm.gray)\n",
        "ax1.axis('off')\n",
        "ax1.set_title('noisy image', fontsize=20)\n",
        "\n",
        "ax2.imshow(edges1, cmap=plt.cm.gray)\n",
        "ax2.axis('off')\n",
        "ax2.set_title(r'Canny filter, $\\sigma=1$', fontsize=20)\n",
        "\n",
        "ax3.imshow(edges2, cmap=plt.cm.gray)\n",
        "ax3.axis('off')\n",
        "ax3.set_title(r'Canny filter, $\\sigma=3$', fontsize=20)\n",
        "\n",
        "fig.tight_layout()\n",
        "\n",
        "plt.show()"
      ]
    },
    {
      "cell_type": "markdown",
      "metadata": {
        "id": "hiEWhGUQRGoH"
      },
      "source": [
        "### Tensorflow 2\n",
        "\n",
        "Для создания и обучения нейросетевых моделей можно использовать фреймворк глубокого обучения Tensorflow 2. Ниже приведен пример простейшей нейроной сети, использующейся для классификации изображений из набора данных MNIST."
      ]
    },
    {
      "cell_type": "code",
      "execution_count": null,
      "metadata": {
        "id": "kDwLG7A1ReNy"
      },
      "outputs": [],
      "source": [
        "# Install TensorFlow\n",
        "\n",
        "import tensorflow as tf\n",
        "\n",
        "mnist = tf.keras.datasets.mnist\n",
        "\n",
        "(x_train, y_train), (x_test, y_test) = mnist.load_data()\n",
        "x_train, x_test = x_train / 255.0, x_test / 255.0\n",
        "\n",
        "model = tf.keras.models.Sequential([\n",
        "  tf.keras.layers.Flatten(input_shape=(28, 28)),\n",
        "  tf.keras.layers.Dense(128, activation='relu'),\n",
        "  tf.keras.layers.Dropout(0.2),\n",
        "  tf.keras.layers.Dense(10, activation='softmax')\n",
        "])\n",
        "\n",
        "model.compile(optimizer='adam',\n",
        "              loss='sparse_categorical_crossentropy',\n",
        "              metrics=['accuracy'])\n",
        "\n",
        "model.fit(x_train, y_train, epochs=5)\n",
        "\n",
        "model.evaluate(x_test,  y_test, verbose=2)"
      ]
    },
    {
      "cell_type": "markdown",
      "metadata": {
        "id": "IbvktmLwRu8g"
      },
      "source": [
        "<font color=\"red\">\n",
        "Для эффективной работы с моделями глубокого обучения убедитесь в том, что в текущей среде Google Colab используется аппаратный ускоритель GPU или TPU. Для смены среды выберите \"среда выполнения\" -> \"сменить среду выполнения\".\n",
        "</font>"
      ]
    },
    {
      "cell_type": "markdown",
      "metadata": {
        "id": "nJVNOOU9Sjyf"
      },
      "source": [
        "Большое количество туториалов и примеров с кодом на Tensorflow 2 можно найти на официальном сайте https://www.tensorflow.org/tutorials?hl=ru."
      ]
    },
    {
      "cell_type": "markdown",
      "metadata": {
        "id": "GVPs3pYpS0U1"
      },
      "source": [
        "Также, Вам может понадобиться написать собственный генератор данных для Tensorflow 2. Скорее всего он будет достаточно простым, и его легко можно будет реализовать, используя официальную документацию TensorFlow 2. Но, на всякий случай (если не удлось сразу разобраться или хочется вникнуть в тему более глубоко), можете посмотреть следующий отличный туториал: https://stanford.edu/~shervine/blog/keras-how-to-generate-data-on-the-fly."
      ]
    },
    {
      "cell_type": "markdown",
      "metadata": {
        "id": "lwI-T0IXyN84"
      },
      "source": [
        "### Numba\n",
        "\n",
        "В некоторых ситуациях, при ручных реализациях графовых алгоритмов, выполнение многократных вложенных циклов for в python можно существенно ускорить, используя JIT-компилятор Numba (https://numba.pydata.org/).\n",
        "Примеры использования Numba в Google Colab можно найти тут:\n",
        "1. https://colab.research.google.com/github/cbernet/maldives/blob/master/numba/numba_cuda.ipynb\n",
        "2. https://colab.research.google.com/github/evaneschneider/parallel-programming/blob/master/COMPASS_gpu_intro.ipynb\n",
        "\n",
        "> Пожалуйста, если Вы решили использовать Numba для решения этого практического задания, еще раз подумайте, нужно ли это Вам, и есть ли возможность реализовать требуемую функциональность иным способом. Используйте Numba только при реальной необходимости.\n",
        "\n"
      ]
    },
    {
      "cell_type": "markdown",
      "metadata": {
        "id": "BxAJ00A76LcF"
      },
      "source": [
        "### Работа с zip архивами в Google Drive\n",
        "\n",
        "Запаковка и распаковка zip архивов может пригодиться при сохранении и загрузки Вашей модели. Ниже приведен фрагмент кода, иллюстрирующий помещение нескольких файлов в zip архив с последующим чтением файлов из него. Все действия с директориями, файлами и архивами должны осущетвляться с примонтированным Google Drive.\n"
      ]
    },
    {
      "cell_type": "markdown",
      "metadata": {
        "id": "ZJiKndOpPu_e"
      },
      "source": [
        "Создадим 2 изображения, поместим их в директорию tmp внутри PROJECT_DIR, запакуем директорию tmp в архив tmp.zip."
      ]
    },
    {
      "cell_type": "code",
      "execution_count": null,
      "metadata": {
        "id": "CRwgPtv-6nMP"
      },
      "outputs": [],
      "source": [
        "PROJECT_DIR = \"/dev/prak_nn_1/\"\n",
        "arr1 = np.random.rand(100, 100, 3) * 255\n",
        "arr2 = np.random.rand(100, 100, 3) * 255\n",
        "\n",
        "img1 = Image.fromarray(arr1.astype('uint8'))\n",
        "img2 = Image.fromarray(arr2.astype('uint8'))\n",
        "\n",
        "p = \"/content/drive/MyDrive/\" + PROJECT_DIR\n",
        "\n",
        "if not (Path(p) / 'tmp').exists():\n",
        "    (Path(p) / 'tmp').mkdir()\n",
        "\n",
        "img1.save(str(Path(p) / 'tmp' / 'img1.png'))\n",
        "img2.save(str(Path(p) / 'tmp' / 'img2.png'))\n",
        "\n",
        "%cd $p\n",
        "!zip -r \"tmp.zip\" \"tmp\""
      ]
    },
    {
      "cell_type": "markdown",
      "metadata": {
        "id": "MykrBSWNQQlq"
      },
      "source": [
        "Распакуем архив tmp.zip в директорию tmp2 в PROJECT_DIR. Теперь внутри директории tmp2 содержится директория tmp, внутри которой находятся 2 изображения."
      ]
    },
    {
      "cell_type": "code",
      "execution_count": null,
      "metadata": {
        "id": "CwSWrYIWMAus"
      },
      "outputs": [],
      "source": [
        "p = \"/content/drive/MyDrive/\" + PROJECT_DIR\n",
        "%cd $p\n",
        "!unzip -uq \"tmp.zip\" -d \"tmp2\""
      ]
    }
  ],
  "metadata": {
    "accelerator": "GPU",
    "colab": {
      "provenance": []
    },
    "gpuClass": "standard",
    "kernelspec": {
      "display_name": "Python 3.10.4 ('py310')",
      "language": "python",
      "name": "python3"
    },
    "language_info": {
      "name": "python",
      "version": "3.10.4"
    },
    "vscode": {
      "interpreter": {
        "hash": "7af69d84c46e0da4f71f361435e72c01e713b5d1fcbc89c051c042527a934273"
      }
    },
    "widgets": {
      "application/vnd.jupyter.widget-state+json": {
        "79f0c17c82244b73bc59086aa4386777": {
          "model_module": "@jupyter-widgets/controls",
          "model_name": "HBoxModel",
          "model_module_version": "1.5.0",
          "state": {
            "_dom_classes": [],
            "_model_module": "@jupyter-widgets/controls",
            "_model_module_version": "1.5.0",
            "_model_name": "HBoxModel",
            "_view_count": null,
            "_view_module": "@jupyter-widgets/controls",
            "_view_module_version": "1.5.0",
            "_view_name": "HBoxView",
            "box_style": "",
            "children": [
              "IPY_MODEL_2fd1ead5597545f59c00b9bf6c37870a",
              "IPY_MODEL_aef838242cb24eb0abd58abc73aa6252",
              "IPY_MODEL_a45f05f565b94b0685b12bca3986a270"
            ],
            "layout": "IPY_MODEL_edfe958060384aed87ec3c22e4801b99"
          }
        },
        "2fd1ead5597545f59c00b9bf6c37870a": {
          "model_module": "@jupyter-widgets/controls",
          "model_name": "HTMLModel",
          "model_module_version": "1.5.0",
          "state": {
            "_dom_classes": [],
            "_model_module": "@jupyter-widgets/controls",
            "_model_module_version": "1.5.0",
            "_model_name": "HTMLModel",
            "_view_count": null,
            "_view_module": "@jupyter-widgets/controls",
            "_view_module_version": "1.5.0",
            "_view_name": "HTMLView",
            "description": "",
            "description_tooltip": null,
            "layout": "IPY_MODEL_93a36a86e0804df09f86af043565cce2",
            "placeholder": "​",
            "style": "IPY_MODEL_ef69aba87809420eadff7f37e7dcfc56",
            "value": "100%"
          }
        },
        "aef838242cb24eb0abd58abc73aa6252": {
          "model_module": "@jupyter-widgets/controls",
          "model_name": "FloatProgressModel",
          "model_module_version": "1.5.0",
          "state": {
            "_dom_classes": [],
            "_model_module": "@jupyter-widgets/controls",
            "_model_module_version": "1.5.0",
            "_model_name": "FloatProgressModel",
            "_view_count": null,
            "_view_module": "@jupyter-widgets/controls",
            "_view_module_version": "1.5.0",
            "_view_name": "ProgressView",
            "bar_style": "success",
            "description": "",
            "description_tooltip": null,
            "layout": "IPY_MODEL_38304ef2029241e49ec83849eb31e1f1",
            "max": 4500,
            "min": 0,
            "orientation": "horizontal",
            "style": "IPY_MODEL_2a486b3f9c14417daf8adc8cc9b26926",
            "value": 4500
          }
        },
        "a45f05f565b94b0685b12bca3986a270": {
          "model_module": "@jupyter-widgets/controls",
          "model_name": "HTMLModel",
          "model_module_version": "1.5.0",
          "state": {
            "_dom_classes": [],
            "_model_module": "@jupyter-widgets/controls",
            "_model_module_version": "1.5.0",
            "_model_name": "HTMLModel",
            "_view_count": null,
            "_view_module": "@jupyter-widgets/controls",
            "_view_module_version": "1.5.0",
            "_view_name": "HTMLView",
            "description": "",
            "description_tooltip": null,
            "layout": "IPY_MODEL_e6a3aadac9754198aa5e509ee01bea7f",
            "placeholder": "​",
            "style": "IPY_MODEL_7675c649fd9a454aa82165046a5fdb6e",
            "value": " 4500/4500 [00:25&lt;00:00, 149.31it/s]"
          }
        },
        "edfe958060384aed87ec3c22e4801b99": {
          "model_module": "@jupyter-widgets/base",
          "model_name": "LayoutModel",
          "model_module_version": "1.2.0",
          "state": {
            "_model_module": "@jupyter-widgets/base",
            "_model_module_version": "1.2.0",
            "_model_name": "LayoutModel",
            "_view_count": null,
            "_view_module": "@jupyter-widgets/base",
            "_view_module_version": "1.2.0",
            "_view_name": "LayoutView",
            "align_content": null,
            "align_items": null,
            "align_self": null,
            "border": null,
            "bottom": null,
            "display": null,
            "flex": null,
            "flex_flow": null,
            "grid_area": null,
            "grid_auto_columns": null,
            "grid_auto_flow": null,
            "grid_auto_rows": null,
            "grid_column": null,
            "grid_gap": null,
            "grid_row": null,
            "grid_template_areas": null,
            "grid_template_columns": null,
            "grid_template_rows": null,
            "height": null,
            "justify_content": null,
            "justify_items": null,
            "left": null,
            "margin": null,
            "max_height": null,
            "max_width": null,
            "min_height": null,
            "min_width": null,
            "object_fit": null,
            "object_position": null,
            "order": null,
            "overflow": null,
            "overflow_x": null,
            "overflow_y": null,
            "padding": null,
            "right": null,
            "top": null,
            "visibility": null,
            "width": null
          }
        },
        "93a36a86e0804df09f86af043565cce2": {
          "model_module": "@jupyter-widgets/base",
          "model_name": "LayoutModel",
          "model_module_version": "1.2.0",
          "state": {
            "_model_module": "@jupyter-widgets/base",
            "_model_module_version": "1.2.0",
            "_model_name": "LayoutModel",
            "_view_count": null,
            "_view_module": "@jupyter-widgets/base",
            "_view_module_version": "1.2.0",
            "_view_name": "LayoutView",
            "align_content": null,
            "align_items": null,
            "align_self": null,
            "border": null,
            "bottom": null,
            "display": null,
            "flex": null,
            "flex_flow": null,
            "grid_area": null,
            "grid_auto_columns": null,
            "grid_auto_flow": null,
            "grid_auto_rows": null,
            "grid_column": null,
            "grid_gap": null,
            "grid_row": null,
            "grid_template_areas": null,
            "grid_template_columns": null,
            "grid_template_rows": null,
            "height": null,
            "justify_content": null,
            "justify_items": null,
            "left": null,
            "margin": null,
            "max_height": null,
            "max_width": null,
            "min_height": null,
            "min_width": null,
            "object_fit": null,
            "object_position": null,
            "order": null,
            "overflow": null,
            "overflow_x": null,
            "overflow_y": null,
            "padding": null,
            "right": null,
            "top": null,
            "visibility": null,
            "width": null
          }
        },
        "ef69aba87809420eadff7f37e7dcfc56": {
          "model_module": "@jupyter-widgets/controls",
          "model_name": "DescriptionStyleModel",
          "model_module_version": "1.5.0",
          "state": {
            "_model_module": "@jupyter-widgets/controls",
            "_model_module_version": "1.5.0",
            "_model_name": "DescriptionStyleModel",
            "_view_count": null,
            "_view_module": "@jupyter-widgets/base",
            "_view_module_version": "1.2.0",
            "_view_name": "StyleView",
            "description_width": ""
          }
        },
        "38304ef2029241e49ec83849eb31e1f1": {
          "model_module": "@jupyter-widgets/base",
          "model_name": "LayoutModel",
          "model_module_version": "1.2.0",
          "state": {
            "_model_module": "@jupyter-widgets/base",
            "_model_module_version": "1.2.0",
            "_model_name": "LayoutModel",
            "_view_count": null,
            "_view_module": "@jupyter-widgets/base",
            "_view_module_version": "1.2.0",
            "_view_name": "LayoutView",
            "align_content": null,
            "align_items": null,
            "align_self": null,
            "border": null,
            "bottom": null,
            "display": null,
            "flex": null,
            "flex_flow": null,
            "grid_area": null,
            "grid_auto_columns": null,
            "grid_auto_flow": null,
            "grid_auto_rows": null,
            "grid_column": null,
            "grid_gap": null,
            "grid_row": null,
            "grid_template_areas": null,
            "grid_template_columns": null,
            "grid_template_rows": null,
            "height": null,
            "justify_content": null,
            "justify_items": null,
            "left": null,
            "margin": null,
            "max_height": null,
            "max_width": null,
            "min_height": null,
            "min_width": null,
            "object_fit": null,
            "object_position": null,
            "order": null,
            "overflow": null,
            "overflow_x": null,
            "overflow_y": null,
            "padding": null,
            "right": null,
            "top": null,
            "visibility": null,
            "width": null
          }
        },
        "2a486b3f9c14417daf8adc8cc9b26926": {
          "model_module": "@jupyter-widgets/controls",
          "model_name": "ProgressStyleModel",
          "model_module_version": "1.5.0",
          "state": {
            "_model_module": "@jupyter-widgets/controls",
            "_model_module_version": "1.5.0",
            "_model_name": "ProgressStyleModel",
            "_view_count": null,
            "_view_module": "@jupyter-widgets/base",
            "_view_module_version": "1.2.0",
            "_view_name": "StyleView",
            "bar_color": null,
            "description_width": ""
          }
        },
        "e6a3aadac9754198aa5e509ee01bea7f": {
          "model_module": "@jupyter-widgets/base",
          "model_name": "LayoutModel",
          "model_module_version": "1.2.0",
          "state": {
            "_model_module": "@jupyter-widgets/base",
            "_model_module_version": "1.2.0",
            "_model_name": "LayoutModel",
            "_view_count": null,
            "_view_module": "@jupyter-widgets/base",
            "_view_module_version": "1.2.0",
            "_view_name": "LayoutView",
            "align_content": null,
            "align_items": null,
            "align_self": null,
            "border": null,
            "bottom": null,
            "display": null,
            "flex": null,
            "flex_flow": null,
            "grid_area": null,
            "grid_auto_columns": null,
            "grid_auto_flow": null,
            "grid_auto_rows": null,
            "grid_column": null,
            "grid_gap": null,
            "grid_row": null,
            "grid_template_areas": null,
            "grid_template_columns": null,
            "grid_template_rows": null,
            "height": null,
            "justify_content": null,
            "justify_items": null,
            "left": null,
            "margin": null,
            "max_height": null,
            "max_width": null,
            "min_height": null,
            "min_width": null,
            "object_fit": null,
            "object_position": null,
            "order": null,
            "overflow": null,
            "overflow_x": null,
            "overflow_y": null,
            "padding": null,
            "right": null,
            "top": null,
            "visibility": null,
            "width": null
          }
        },
        "7675c649fd9a454aa82165046a5fdb6e": {
          "model_module": "@jupyter-widgets/controls",
          "model_name": "DescriptionStyleModel",
          "model_module_version": "1.5.0",
          "state": {
            "_model_module": "@jupyter-widgets/controls",
            "_model_module_version": "1.5.0",
            "_model_name": "DescriptionStyleModel",
            "_view_count": null,
            "_view_module": "@jupyter-widgets/base",
            "_view_module_version": "1.2.0",
            "_view_name": "StyleView",
            "description_width": ""
          }
        },
        "54de3bf577954219a54cac785a48abe7": {
          "model_module": "@jupyter-widgets/controls",
          "model_name": "HBoxModel",
          "model_module_version": "1.5.0",
          "state": {
            "_dom_classes": [],
            "_model_module": "@jupyter-widgets/controls",
            "_model_module_version": "1.5.0",
            "_model_name": "HBoxModel",
            "_view_count": null,
            "_view_module": "@jupyter-widgets/controls",
            "_view_module_version": "1.5.0",
            "_view_name": "HBoxView",
            "box_style": "",
            "children": [
              "IPY_MODEL_9bbeb2a8e5804f498fede2cbd8da9205",
              "IPY_MODEL_14e7e5a20c8243c3bb9919ab7f87a65e",
              "IPY_MODEL_10057f7208564c79b59115395a5f4d58"
            ],
            "layout": "IPY_MODEL_621448bfdbf446f9a410cd4f6ca2c3e8"
          }
        },
        "9bbeb2a8e5804f498fede2cbd8da9205": {
          "model_module": "@jupyter-widgets/controls",
          "model_name": "HTMLModel",
          "model_module_version": "1.5.0",
          "state": {
            "_dom_classes": [],
            "_model_module": "@jupyter-widgets/controls",
            "_model_module_version": "1.5.0",
            "_model_name": "HTMLModel",
            "_view_count": null,
            "_view_module": "@jupyter-widgets/controls",
            "_view_module_version": "1.5.0",
            "_view_name": "HTMLView",
            "description": "",
            "description_tooltip": null,
            "layout": "IPY_MODEL_a3c62e2278824f5d86657ba2cff8c33e",
            "placeholder": "​",
            "style": "IPY_MODEL_a851b00c46684f16a2271f4fa4b09bc2",
            "value": "100%"
          }
        },
        "14e7e5a20c8243c3bb9919ab7f87a65e": {
          "model_module": "@jupyter-widgets/controls",
          "model_name": "FloatProgressModel",
          "model_module_version": "1.5.0",
          "state": {
            "_dom_classes": [],
            "_model_module": "@jupyter-widgets/controls",
            "_model_module_version": "1.5.0",
            "_model_name": "FloatProgressModel",
            "_view_count": null,
            "_view_module": "@jupyter-widgets/controls",
            "_view_module_version": "1.5.0",
            "_view_name": "ProgressView",
            "bar_style": "success",
            "description": "",
            "description_tooltip": null,
            "layout": "IPY_MODEL_1e9ed78c73da459bad624bc9e7db336c",
            "max": 90,
            "min": 0,
            "orientation": "horizontal",
            "style": "IPY_MODEL_d0185ff3b78349928260cbb2eaa5ca33",
            "value": 90
          }
        },
        "10057f7208564c79b59115395a5f4d58": {
          "model_module": "@jupyter-widgets/controls",
          "model_name": "HTMLModel",
          "model_module_version": "1.5.0",
          "state": {
            "_dom_classes": [],
            "_model_module": "@jupyter-widgets/controls",
            "_model_module_version": "1.5.0",
            "_model_name": "HTMLModel",
            "_view_count": null,
            "_view_module": "@jupyter-widgets/controls",
            "_view_module_version": "1.5.0",
            "_view_name": "HTMLView",
            "description": "",
            "description_tooltip": null,
            "layout": "IPY_MODEL_9298165acd894227bb40b6c25e033ffe",
            "placeholder": "​",
            "style": "IPY_MODEL_be1dbbe04b4c4ab191e81c8e945fc959",
            "value": " 90/90 [00:00&lt;00:00, 181.37it/s]"
          }
        },
        "621448bfdbf446f9a410cd4f6ca2c3e8": {
          "model_module": "@jupyter-widgets/base",
          "model_name": "LayoutModel",
          "model_module_version": "1.2.0",
          "state": {
            "_model_module": "@jupyter-widgets/base",
            "_model_module_version": "1.2.0",
            "_model_name": "LayoutModel",
            "_view_count": null,
            "_view_module": "@jupyter-widgets/base",
            "_view_module_version": "1.2.0",
            "_view_name": "LayoutView",
            "align_content": null,
            "align_items": null,
            "align_self": null,
            "border": null,
            "bottom": null,
            "display": null,
            "flex": null,
            "flex_flow": null,
            "grid_area": null,
            "grid_auto_columns": null,
            "grid_auto_flow": null,
            "grid_auto_rows": null,
            "grid_column": null,
            "grid_gap": null,
            "grid_row": null,
            "grid_template_areas": null,
            "grid_template_columns": null,
            "grid_template_rows": null,
            "height": null,
            "justify_content": null,
            "justify_items": null,
            "left": null,
            "margin": null,
            "max_height": null,
            "max_width": null,
            "min_height": null,
            "min_width": null,
            "object_fit": null,
            "object_position": null,
            "order": null,
            "overflow": null,
            "overflow_x": null,
            "overflow_y": null,
            "padding": null,
            "right": null,
            "top": null,
            "visibility": null,
            "width": null
          }
        },
        "a3c62e2278824f5d86657ba2cff8c33e": {
          "model_module": "@jupyter-widgets/base",
          "model_name": "LayoutModel",
          "model_module_version": "1.2.0",
          "state": {
            "_model_module": "@jupyter-widgets/base",
            "_model_module_version": "1.2.0",
            "_model_name": "LayoutModel",
            "_view_count": null,
            "_view_module": "@jupyter-widgets/base",
            "_view_module_version": "1.2.0",
            "_view_name": "LayoutView",
            "align_content": null,
            "align_items": null,
            "align_self": null,
            "border": null,
            "bottom": null,
            "display": null,
            "flex": null,
            "flex_flow": null,
            "grid_area": null,
            "grid_auto_columns": null,
            "grid_auto_flow": null,
            "grid_auto_rows": null,
            "grid_column": null,
            "grid_gap": null,
            "grid_row": null,
            "grid_template_areas": null,
            "grid_template_columns": null,
            "grid_template_rows": null,
            "height": null,
            "justify_content": null,
            "justify_items": null,
            "left": null,
            "margin": null,
            "max_height": null,
            "max_width": null,
            "min_height": null,
            "min_width": null,
            "object_fit": null,
            "object_position": null,
            "order": null,
            "overflow": null,
            "overflow_x": null,
            "overflow_y": null,
            "padding": null,
            "right": null,
            "top": null,
            "visibility": null,
            "width": null
          }
        },
        "a851b00c46684f16a2271f4fa4b09bc2": {
          "model_module": "@jupyter-widgets/controls",
          "model_name": "DescriptionStyleModel",
          "model_module_version": "1.5.0",
          "state": {
            "_model_module": "@jupyter-widgets/controls",
            "_model_module_version": "1.5.0",
            "_model_name": "DescriptionStyleModel",
            "_view_count": null,
            "_view_module": "@jupyter-widgets/base",
            "_view_module_version": "1.2.0",
            "_view_name": "StyleView",
            "description_width": ""
          }
        },
        "1e9ed78c73da459bad624bc9e7db336c": {
          "model_module": "@jupyter-widgets/base",
          "model_name": "LayoutModel",
          "model_module_version": "1.2.0",
          "state": {
            "_model_module": "@jupyter-widgets/base",
            "_model_module_version": "1.2.0",
            "_model_name": "LayoutModel",
            "_view_count": null,
            "_view_module": "@jupyter-widgets/base",
            "_view_module_version": "1.2.0",
            "_view_name": "LayoutView",
            "align_content": null,
            "align_items": null,
            "align_self": null,
            "border": null,
            "bottom": null,
            "display": null,
            "flex": null,
            "flex_flow": null,
            "grid_area": null,
            "grid_auto_columns": null,
            "grid_auto_flow": null,
            "grid_auto_rows": null,
            "grid_column": null,
            "grid_gap": null,
            "grid_row": null,
            "grid_template_areas": null,
            "grid_template_columns": null,
            "grid_template_rows": null,
            "height": null,
            "justify_content": null,
            "justify_items": null,
            "left": null,
            "margin": null,
            "max_height": null,
            "max_width": null,
            "min_height": null,
            "min_width": null,
            "object_fit": null,
            "object_position": null,
            "order": null,
            "overflow": null,
            "overflow_x": null,
            "overflow_y": null,
            "padding": null,
            "right": null,
            "top": null,
            "visibility": null,
            "width": null
          }
        },
        "d0185ff3b78349928260cbb2eaa5ca33": {
          "model_module": "@jupyter-widgets/controls",
          "model_name": "ProgressStyleModel",
          "model_module_version": "1.5.0",
          "state": {
            "_model_module": "@jupyter-widgets/controls",
            "_model_module_version": "1.5.0",
            "_model_name": "ProgressStyleModel",
            "_view_count": null,
            "_view_module": "@jupyter-widgets/base",
            "_view_module_version": "1.2.0",
            "_view_name": "StyleView",
            "bar_color": null,
            "description_width": ""
          }
        },
        "9298165acd894227bb40b6c25e033ffe": {
          "model_module": "@jupyter-widgets/base",
          "model_name": "LayoutModel",
          "model_module_version": "1.2.0",
          "state": {
            "_model_module": "@jupyter-widgets/base",
            "_model_module_version": "1.2.0",
            "_model_name": "LayoutModel",
            "_view_count": null,
            "_view_module": "@jupyter-widgets/base",
            "_view_module_version": "1.2.0",
            "_view_name": "LayoutView",
            "align_content": null,
            "align_items": null,
            "align_self": null,
            "border": null,
            "bottom": null,
            "display": null,
            "flex": null,
            "flex_flow": null,
            "grid_area": null,
            "grid_auto_columns": null,
            "grid_auto_flow": null,
            "grid_auto_rows": null,
            "grid_column": null,
            "grid_gap": null,
            "grid_row": null,
            "grid_template_areas": null,
            "grid_template_columns": null,
            "grid_template_rows": null,
            "height": null,
            "justify_content": null,
            "justify_items": null,
            "left": null,
            "margin": null,
            "max_height": null,
            "max_width": null,
            "min_height": null,
            "min_width": null,
            "object_fit": null,
            "object_position": null,
            "order": null,
            "overflow": null,
            "overflow_x": null,
            "overflow_y": null,
            "padding": null,
            "right": null,
            "top": null,
            "visibility": null,
            "width": null
          }
        },
        "be1dbbe04b4c4ab191e81c8e945fc959": {
          "model_module": "@jupyter-widgets/controls",
          "model_name": "DescriptionStyleModel",
          "model_module_version": "1.5.0",
          "state": {
            "_model_module": "@jupyter-widgets/controls",
            "_model_module_version": "1.5.0",
            "_model_name": "DescriptionStyleModel",
            "_view_count": null,
            "_view_module": "@jupyter-widgets/base",
            "_view_module_version": "1.2.0",
            "_view_name": "StyleView",
            "description_width": ""
          }
        }
      }
    }
  },
  "nbformat": 4,
  "nbformat_minor": 0
}